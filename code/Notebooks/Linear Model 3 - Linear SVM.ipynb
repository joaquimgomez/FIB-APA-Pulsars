{
 "cells": [
  {
   "cell_type": "markdown",
   "metadata": {},
   "source": [
    "# Linear Model 3 - Linear SVM"
   ]
  },
  {
   "cell_type": "code",
   "execution_count": 1,
   "metadata": {},
   "outputs": [],
   "source": [
    "import pandas as pd\n",
    "import numpy as np\n",
    "from sklearn.model_selection import train_test_split\n",
    "from sklearn.metrics import classification_report, accuracy_score\n",
    "from auxiliars import *\n",
    "import pickle"
   ]
  },
  {
   "cell_type": "markdown",
   "metadata": {},
   "source": [
    "## Data"
   ]
  },
  {
   "cell_type": "code",
   "execution_count": 2,
   "metadata": {},
   "outputs": [],
   "source": [
    "data = pd.read_csv(\"./data/stdHTRU_2.csv\")"
   ]
  },
  {
   "cell_type": "code",
   "execution_count": 3,
   "metadata": {
    "scrolled": false
   },
   "outputs": [
    {
     "data": {
      "text/plain": [
       "array([[<matplotlib.axes._subplots.AxesSubplot object at 0x1153c4b38>,\n",
       "        <matplotlib.axes._subplots.AxesSubplot object at 0x116875b70>,\n",
       "        <matplotlib.axes._subplots.AxesSubplot object at 0x1168b6048>,\n",
       "        <matplotlib.axes._subplots.AxesSubplot object at 0x1168e75f8>,\n",
       "        <matplotlib.axes._subplots.AxesSubplot object at 0x116917ba8>,\n",
       "        <matplotlib.axes._subplots.AxesSubplot object at 0x116957198>,\n",
       "        <matplotlib.axes._subplots.AxesSubplot object at 0x116985748>,\n",
       "        <matplotlib.axes._subplots.AxesSubplot object at 0x1169b6d30>],\n",
       "       [<matplotlib.axes._subplots.AxesSubplot object at 0x1169b6d68>,\n",
       "        <matplotlib.axes._subplots.AxesSubplot object at 0x116a25898>,\n",
       "        <matplotlib.axes._subplots.AxesSubplot object at 0x116a57e48>,\n",
       "        <matplotlib.axes._subplots.AxesSubplot object at 0x116a92438>,\n",
       "        <matplotlib.axes._subplots.AxesSubplot object at 0x116ac59e8>,\n",
       "        <matplotlib.axes._subplots.AxesSubplot object at 0x116af6f98>,\n",
       "        <matplotlib.axes._subplots.AxesSubplot object at 0x116b33588>,\n",
       "        <matplotlib.axes._subplots.AxesSubplot object at 0x116b64b38>],\n",
       "       [<matplotlib.axes._subplots.AxesSubplot object at 0x116ba2128>,\n",
       "        <matplotlib.axes._subplots.AxesSubplot object at 0x116bd16d8>,\n",
       "        <matplotlib.axes._subplots.AxesSubplot object at 0x116c05c88>,\n",
       "        <matplotlib.axes._subplots.AxesSubplot object at 0x116c41278>,\n",
       "        <matplotlib.axes._subplots.AxesSubplot object at 0x116c70828>,\n",
       "        <matplotlib.axes._subplots.AxesSubplot object at 0x116ca2dd8>,\n",
       "        <matplotlib.axes._subplots.AxesSubplot object at 0x116ce03c8>,\n",
       "        <matplotlib.axes._subplots.AxesSubplot object at 0x116d10978>],\n",
       "       [<matplotlib.axes._subplots.AxesSubplot object at 0x116d43f28>,\n",
       "        <matplotlib.axes._subplots.AxesSubplot object at 0x116d80518>,\n",
       "        <matplotlib.axes._subplots.AxesSubplot object at 0x116db0ac8>,\n",
       "        <matplotlib.axes._subplots.AxesSubplot object at 0x116ded0b8>,\n",
       "        <matplotlib.axes._subplots.AxesSubplot object at 0x116e1d668>,\n",
       "        <matplotlib.axes._subplots.AxesSubplot object at 0x116e4fc18>,\n",
       "        <matplotlib.axes._subplots.AxesSubplot object at 0x116e8d208>,\n",
       "        <matplotlib.axes._subplots.AxesSubplot object at 0x116ebd7b8>],\n",
       "       [<matplotlib.axes._subplots.AxesSubplot object at 0x116ef1d68>,\n",
       "        <matplotlib.axes._subplots.AxesSubplot object at 0x116f2d358>,\n",
       "        <matplotlib.axes._subplots.AxesSubplot object at 0x116f5b908>,\n",
       "        <matplotlib.axes._subplots.AxesSubplot object at 0x116f91eb8>,\n",
       "        <matplotlib.axes._subplots.AxesSubplot object at 0x116fcb4a8>,\n",
       "        <matplotlib.axes._subplots.AxesSubplot object at 0x116ffba58>,\n",
       "        <matplotlib.axes._subplots.AxesSubplot object at 0x117040048>,\n",
       "        <matplotlib.axes._subplots.AxesSubplot object at 0x11706a5f8>],\n",
       "       [<matplotlib.axes._subplots.AxesSubplot object at 0x11709bba8>,\n",
       "        <matplotlib.axes._subplots.AxesSubplot object at 0x119244198>,\n",
       "        <matplotlib.axes._subplots.AxesSubplot object at 0x119278748>,\n",
       "        <matplotlib.axes._subplots.AxesSubplot object at 0x1192a6cf8>,\n",
       "        <matplotlib.axes._subplots.AxesSubplot object at 0x1192e32e8>,\n",
       "        <matplotlib.axes._subplots.AxesSubplot object at 0x119316898>,\n",
       "        <matplotlib.axes._subplots.AxesSubplot object at 0x119347e48>,\n",
       "        <matplotlib.axes._subplots.AxesSubplot object at 0x119384438>],\n",
       "       [<matplotlib.axes._subplots.AxesSubplot object at 0x1193b49e8>,\n",
       "        <matplotlib.axes._subplots.AxesSubplot object at 0x1193e7f98>,\n",
       "        <matplotlib.axes._subplots.AxesSubplot object at 0x119424588>,\n",
       "        <matplotlib.axes._subplots.AxesSubplot object at 0x119454b38>,\n",
       "        <matplotlib.axes._subplots.AxesSubplot object at 0x119493128>,\n",
       "        <matplotlib.axes._subplots.AxesSubplot object at 0x1194c26d8>,\n",
       "        <matplotlib.axes._subplots.AxesSubplot object at 0x1194f2c88>,\n",
       "        <matplotlib.axes._subplots.AxesSubplot object at 0x119530278>],\n",
       "       [<matplotlib.axes._subplots.AxesSubplot object at 0x119562828>,\n",
       "        <matplotlib.axes._subplots.AxesSubplot object at 0x119591dd8>,\n",
       "        <matplotlib.axes._subplots.AxesSubplot object at 0x1195ce3c8>,\n",
       "        <matplotlib.axes._subplots.AxesSubplot object at 0x119600978>,\n",
       "        <matplotlib.axes._subplots.AxesSubplot object at 0x119631f28>,\n",
       "        <matplotlib.axes._subplots.AxesSubplot object at 0x119671518>,\n",
       "        <matplotlib.axes._subplots.AxesSubplot object at 0x1196a1ac8>,\n",
       "        <matplotlib.axes._subplots.AxesSubplot object at 0x1196df0b8>]],\n",
       "      dtype=object)"
      ]
     },
     "execution_count": 3,
     "metadata": {},
     "output_type": "execute_result"
    }
   ],
   "source": [
    "col = data['class'].map({1:'r', 0:'b'})\n",
    "pd.plotting.scatter_matrix(data.drop(['class'], axis = 1), c=col, figsize=(15,15))"
   ]
  },
  {
   "cell_type": "markdown",
   "metadata": {},
   "source": [
    "From the Scatter Matrix we can de deduce that the Linear Kernel should be sufficient for the separation of classes.\n",
    "\n",
    "Even so, we can obvserve that some features, see for example DM_mean-DM_stdev, have very close data. In order to reduce the impact of this fact, let's train SVM with (standarized) normal data and data with selected features. "
   ]
  },
  {
   "cell_type": "markdown",
   "metadata": {},
   "source": [
    "We split a separate test set of relative size 20%:"
   ]
  },
  {
   "cell_type": "code",
   "execution_count": 4,
   "metadata": {},
   "outputs": [],
   "source": [
    "X_train, X_test, y_train, y_test = train_test_split(data[data.columns[0:8]], \n",
    "                                                    data['class'], \n",
    "                                                    test_size = 0.2,\n",
    "                                                    random_state = 1234)"
   ]
  },
  {
   "cell_type": "markdown",
   "metadata": {},
   "source": [
    "We will analyze the performance of the method with no-correlated standarized data: "
   ]
  },
  {
   "cell_type": "code",
   "execution_count": 5,
   "metadata": {},
   "outputs": [],
   "source": [
    "noCorrData = pd.read_csv(\"./data/noCorrStdHTRU_2.csv\")"
   ]
  },
  {
   "cell_type": "code",
   "execution_count": 6,
   "metadata": {},
   "outputs": [],
   "source": [
    "X_train_NC, X_test_NC, y_train_NC, y_test_NC = train_test_split(noCorrData[noCorrData.columns[0:6]], \n",
    "                                                    noCorrData['class'], \n",
    "                                                    test_size = 0.2,\n",
    "                                                    random_state = 1234)"
   ]
  },
  {
   "cell_type": "markdown",
   "metadata": {},
   "source": [
    "## Model Training"
   ]
  },
  {
   "cell_type": "markdown",
   "metadata": {},
   "source": [
    "In order to train Linear SVM we are going to use the scikit-learn LinearSVC class, specialized in Linear SVM."
   ]
  },
  {
   "cell_type": "code",
   "execution_count": 7,
   "metadata": {},
   "outputs": [],
   "source": [
    "from sklearn.svm import LinearSVC"
   ]
  },
  {
   "cell_type": "code",
   "execution_count": 8,
   "metadata": {},
   "outputs": [],
   "source": [
    "SVMClass = LinearSVC(random_state = 1234, max_iter = 5000)"
   ]
  },
  {
   "cell_type": "markdown",
   "metadata": {},
   "source": [
    "LinearSVC allow us to hypertuning the following parameters:\n",
    "- Regularization parameter C.\n",
    "- Class weights:\n",
    "    - Dict: Weights specified by class.\n",
    "    - Balanced: Uses the values of target (y) to automatically adjust weights inversely proportional to class frequencies in the input data."
   ]
  },
  {
   "cell_type": "markdown",
   "metadata": {},
   "source": [
    "In order to hypertuning model parameters and get a better idea on how the model performs on unseen data, we will use GridSearchCV."
   ]
  },
  {
   "cell_type": "code",
   "execution_count": 9,
   "metadata": {},
   "outputs": [],
   "source": [
    "from sklearn.model_selection import GridSearchCV"
   ]
  },
  {
   "cell_type": "markdown",
   "metadata": {},
   "source": [
    "Values of the 10-Fold CV Grid to test:"
   ]
  },
  {
   "cell_type": "code",
   "execution_count": 10,
   "metadata": {},
   "outputs": [],
   "source": [
    "grid = {'C': [10**x for x in range(-3, 4, 1)],\n",
    "        'class_weight': [{0: 1, 1: 1}, 'balanced']}"
   ]
  },
  {
   "cell_type": "code",
   "execution_count": 11,
   "metadata": {},
   "outputs": [
    {
     "data": {
      "text/plain": [
       "{'C': [0.001, 0.01, 0.1, 1, 10, 100, 1000],\n",
       " 'class_weight': [{0: 1, 1: 1}, 'balanced']}"
      ]
     },
     "execution_count": 11,
     "metadata": {},
     "output_type": "execute_result"
    }
   ],
   "source": [
    "grid"
   ]
  },
  {
   "cell_type": "markdown",
   "metadata": {},
   "source": [
    "Grid Search 10-Fold CV:"
   ]
  },
  {
   "cell_type": "code",
   "execution_count": 12,
   "metadata": {},
   "outputs": [],
   "source": [
    "gs10cv = GridSearchCV(SVMClass, param_grid = grid, cv = 10, n_jobs = -1)"
   ]
  },
  {
   "cell_type": "markdown",
   "metadata": {},
   "source": [
    "### Normal Data Training"
   ]
  },
  {
   "cell_type": "code",
   "execution_count": 13,
   "metadata": {},
   "outputs": [
    {
     "data": {
      "text/plain": [
       "GridSearchCV(cv=10, error_score=nan,\n",
       "             estimator=LinearSVC(C=1.0, class_weight=None, dual=True,\n",
       "                                 fit_intercept=True, intercept_scaling=1,\n",
       "                                 loss='squared_hinge', max_iter=5000,\n",
       "                                 multi_class='ovr', penalty='l2',\n",
       "                                 random_state=1234, tol=0.0001, verbose=0),\n",
       "             iid='deprecated', n_jobs=-1,\n",
       "             param_grid={'C': [0.001, 0.01, 0.1, 1, 10, 100, 1000],\n",
       "                         'class_weight': [{0: 1, 1: 1}, 'balanced']},\n",
       "             pre_dispatch='2*n_jobs', refit=True, return_train_score=False,\n",
       "             scoring=None, verbose=0)"
      ]
     },
     "execution_count": 13,
     "metadata": {},
     "output_type": "execute_result"
    }
   ],
   "source": [
    "gs10cv.fit(X_train, y_train)"
   ]
  },
  {
   "cell_type": "code",
   "execution_count": 14,
   "metadata": {},
   "outputs": [
    {
     "data": {
      "text/html": [
       "<div>\n",
       "<style scoped>\n",
       "    .dataframe tbody tr th:only-of-type {\n",
       "        vertical-align: middle;\n",
       "    }\n",
       "\n",
       "    .dataframe tbody tr th {\n",
       "        vertical-align: top;\n",
       "    }\n",
       "\n",
       "    .dataframe thead th {\n",
       "        text-align: right;\n",
       "    }\n",
       "</style>\n",
       "<table border=\"1\" class=\"dataframe\">\n",
       "  <thead>\n",
       "    <tr style=\"text-align: right;\">\n",
       "      <th></th>\n",
       "      <th>mean_fit_time</th>\n",
       "      <th>std_fit_time</th>\n",
       "      <th>mean_score_time</th>\n",
       "      <th>std_score_time</th>\n",
       "      <th>param_C</th>\n",
       "      <th>param_class_weight</th>\n",
       "      <th>params</th>\n",
       "      <th>split0_test_score</th>\n",
       "      <th>split1_test_score</th>\n",
       "      <th>split2_test_score</th>\n",
       "      <th>split3_test_score</th>\n",
       "      <th>split4_test_score</th>\n",
       "      <th>split5_test_score</th>\n",
       "      <th>split6_test_score</th>\n",
       "      <th>split7_test_score</th>\n",
       "      <th>split8_test_score</th>\n",
       "      <th>split9_test_score</th>\n",
       "      <th>mean_test_score</th>\n",
       "      <th>std_test_score</th>\n",
       "      <th>rank_test_score</th>\n",
       "    </tr>\n",
       "  </thead>\n",
       "  <tbody>\n",
       "    <tr>\n",
       "      <th>0</th>\n",
       "      <td>0.067043</td>\n",
       "      <td>0.015112</td>\n",
       "      <td>0.005495</td>\n",
       "      <td>0.005022</td>\n",
       "      <td>0.001</td>\n",
       "      <td>{0: 1, 1: 1}</td>\n",
       "      <td>{'C': 0.001, 'class_weight': {0: 1, 1: 1}}</td>\n",
       "      <td>0.972067</td>\n",
       "      <td>0.977654</td>\n",
       "      <td>0.973464</td>\n",
       "      <td>0.972067</td>\n",
       "      <td>0.968575</td>\n",
       "      <td>0.977654</td>\n",
       "      <td>0.977654</td>\n",
       "      <td>0.969972</td>\n",
       "      <td>0.976939</td>\n",
       "      <td>0.973445</td>\n",
       "      <td>0.973949</td>\n",
       "      <td>0.003200</td>\n",
       "      <td>6</td>\n",
       "    </tr>\n",
       "    <tr>\n",
       "      <th>1</th>\n",
       "      <td>0.129222</td>\n",
       "      <td>0.038246</td>\n",
       "      <td>0.005577</td>\n",
       "      <td>0.003026</td>\n",
       "      <td>0.001</td>\n",
       "      <td>balanced</td>\n",
       "      <td>{'C': 0.001, 'class_weight': 'balanced'}</td>\n",
       "      <td>0.969274</td>\n",
       "      <td>0.974162</td>\n",
       "      <td>0.967877</td>\n",
       "      <td>0.969274</td>\n",
       "      <td>0.970670</td>\n",
       "      <td>0.973464</td>\n",
       "      <td>0.968575</td>\n",
       "      <td>0.966480</td>\n",
       "      <td>0.966457</td>\n",
       "      <td>0.966457</td>\n",
       "      <td>0.969269</td>\n",
       "      <td>0.002636</td>\n",
       "      <td>14</td>\n",
       "    </tr>\n",
       "    <tr>\n",
       "      <th>2</th>\n",
       "      <td>0.106115</td>\n",
       "      <td>0.053240</td>\n",
       "      <td>0.020416</td>\n",
       "      <td>0.045160</td>\n",
       "      <td>0.01</td>\n",
       "      <td>{0: 1, 1: 1}</td>\n",
       "      <td>{'C': 0.01, 'class_weight': {0: 1, 1: 1}}</td>\n",
       "      <td>0.974162</td>\n",
       "      <td>0.979050</td>\n",
       "      <td>0.974162</td>\n",
       "      <td>0.976257</td>\n",
       "      <td>0.970670</td>\n",
       "      <td>0.979050</td>\n",
       "      <td>0.980447</td>\n",
       "      <td>0.973464</td>\n",
       "      <td>0.980433</td>\n",
       "      <td>0.975542</td>\n",
       "      <td>0.976324</td>\n",
       "      <td>0.003144</td>\n",
       "      <td>5</td>\n",
       "    </tr>\n",
       "    <tr>\n",
       "      <th>3</th>\n",
       "      <td>0.569645</td>\n",
       "      <td>0.281467</td>\n",
       "      <td>0.003367</td>\n",
       "      <td>0.000886</td>\n",
       "      <td>0.01</td>\n",
       "      <td>balanced</td>\n",
       "      <td>{'C': 0.01, 'class_weight': 'balanced'}</td>\n",
       "      <td>0.974162</td>\n",
       "      <td>0.976955</td>\n",
       "      <td>0.974860</td>\n",
       "      <td>0.970670</td>\n",
       "      <td>0.972765</td>\n",
       "      <td>0.976257</td>\n",
       "      <td>0.972067</td>\n",
       "      <td>0.972765</td>\n",
       "      <td>0.972048</td>\n",
       "      <td>0.967855</td>\n",
       "      <td>0.973040</td>\n",
       "      <td>0.002546</td>\n",
       "      <td>10</td>\n",
       "    </tr>\n",
       "    <tr>\n",
       "      <th>4</th>\n",
       "      <td>0.724118</td>\n",
       "      <td>0.322835</td>\n",
       "      <td>0.004992</td>\n",
       "      <td>0.002068</td>\n",
       "      <td>0.1</td>\n",
       "      <td>{0: 1, 1: 1}</td>\n",
       "      <td>{'C': 0.1, 'class_weight': {0: 1, 1: 1}}</td>\n",
       "      <td>0.976257</td>\n",
       "      <td>0.980447</td>\n",
       "      <td>0.975559</td>\n",
       "      <td>0.978352</td>\n",
       "      <td>0.975559</td>\n",
       "      <td>0.981844</td>\n",
       "      <td>0.980447</td>\n",
       "      <td>0.975559</td>\n",
       "      <td>0.979734</td>\n",
       "      <td>0.979036</td>\n",
       "      <td>0.978279</td>\n",
       "      <td>0.002260</td>\n",
       "      <td>3</td>\n",
       "    </tr>\n",
       "    <tr>\n",
       "      <th>5</th>\n",
       "      <td>3.026904</td>\n",
       "      <td>0.825948</td>\n",
       "      <td>0.008067</td>\n",
       "      <td>0.015337</td>\n",
       "      <td>0.1</td>\n",
       "      <td>balanced</td>\n",
       "      <td>{'C': 0.1, 'class_weight': 'balanced'}</td>\n",
       "      <td>0.974860</td>\n",
       "      <td>0.976257</td>\n",
       "      <td>0.974162</td>\n",
       "      <td>0.972765</td>\n",
       "      <td>0.974162</td>\n",
       "      <td>0.973464</td>\n",
       "      <td>0.970670</td>\n",
       "      <td>0.972765</td>\n",
       "      <td>0.971349</td>\n",
       "      <td>0.970650</td>\n",
       "      <td>0.973110</td>\n",
       "      <td>0.001751</td>\n",
       "      <td>9</td>\n",
       "    </tr>\n",
       "    <tr>\n",
       "      <th>6</th>\n",
       "      <td>3.008573</td>\n",
       "      <td>0.900897</td>\n",
       "      <td>0.007850</td>\n",
       "      <td>0.007868</td>\n",
       "      <td>1</td>\n",
       "      <td>{0: 1, 1: 1}</td>\n",
       "      <td>{'C': 1, 'class_weight': {0: 1, 1: 1}}</td>\n",
       "      <td>0.976955</td>\n",
       "      <td>0.981145</td>\n",
       "      <td>0.975559</td>\n",
       "      <td>0.979050</td>\n",
       "      <td>0.976257</td>\n",
       "      <td>0.982542</td>\n",
       "      <td>0.981145</td>\n",
       "      <td>0.976257</td>\n",
       "      <td>0.979734</td>\n",
       "      <td>0.979734</td>\n",
       "      <td>0.978838</td>\n",
       "      <td>0.002316</td>\n",
       "      <td>1</td>\n",
       "    </tr>\n",
       "    <tr>\n",
       "      <th>7</th>\n",
       "      <td>16.433442</td>\n",
       "      <td>2.413215</td>\n",
       "      <td>0.007260</td>\n",
       "      <td>0.003504</td>\n",
       "      <td>1</td>\n",
       "      <td>balanced</td>\n",
       "      <td>{'C': 1, 'class_weight': 'balanced'}</td>\n",
       "      <td>0.974162</td>\n",
       "      <td>0.974860</td>\n",
       "      <td>0.972067</td>\n",
       "      <td>0.972067</td>\n",
       "      <td>0.974162</td>\n",
       "      <td>0.973464</td>\n",
       "      <td>0.970670</td>\n",
       "      <td>0.969972</td>\n",
       "      <td>0.969951</td>\n",
       "      <td>0.969252</td>\n",
       "      <td>0.972063</td>\n",
       "      <td>0.001931</td>\n",
       "      <td>11</td>\n",
       "    </tr>\n",
       "    <tr>\n",
       "      <th>8</th>\n",
       "      <td>6.205535</td>\n",
       "      <td>0.231656</td>\n",
       "      <td>0.003481</td>\n",
       "      <td>0.000471</td>\n",
       "      <td>10</td>\n",
       "      <td>{0: 1, 1: 1}</td>\n",
       "      <td>{'C': 10, 'class_weight': {0: 1, 1: 1}}</td>\n",
       "      <td>0.976955</td>\n",
       "      <td>0.981145</td>\n",
       "      <td>0.975559</td>\n",
       "      <td>0.979050</td>\n",
       "      <td>0.976257</td>\n",
       "      <td>0.982542</td>\n",
       "      <td>0.981145</td>\n",
       "      <td>0.976955</td>\n",
       "      <td>0.979036</td>\n",
       "      <td>0.979734</td>\n",
       "      <td>0.978838</td>\n",
       "      <td>0.002231</td>\n",
       "      <td>2</td>\n",
       "    </tr>\n",
       "    <tr>\n",
       "      <th>9</th>\n",
       "      <td>14.519821</td>\n",
       "      <td>0.568743</td>\n",
       "      <td>0.003143</td>\n",
       "      <td>0.000644</td>\n",
       "      <td>10</td>\n",
       "      <td>balanced</td>\n",
       "      <td>{'C': 10, 'class_weight': 'balanced'}</td>\n",
       "      <td>0.972765</td>\n",
       "      <td>0.974860</td>\n",
       "      <td>0.969972</td>\n",
       "      <td>0.972067</td>\n",
       "      <td>0.974162</td>\n",
       "      <td>0.973464</td>\n",
       "      <td>0.970670</td>\n",
       "      <td>0.969972</td>\n",
       "      <td>0.969951</td>\n",
       "      <td>0.969252</td>\n",
       "      <td>0.971714</td>\n",
       "      <td>0.001911</td>\n",
       "      <td>12</td>\n",
       "    </tr>\n",
       "    <tr>\n",
       "      <th>10</th>\n",
       "      <td>12.269337</td>\n",
       "      <td>0.270419</td>\n",
       "      <td>0.004005</td>\n",
       "      <td>0.001751</td>\n",
       "      <td>100</td>\n",
       "      <td>{0: 1, 1: 1}</td>\n",
       "      <td>{'C': 100, 'class_weight': {0: 1, 1: 1}}</td>\n",
       "      <td>0.972067</td>\n",
       "      <td>0.980447</td>\n",
       "      <td>0.976257</td>\n",
       "      <td>0.978352</td>\n",
       "      <td>0.976955</td>\n",
       "      <td>0.981145</td>\n",
       "      <td>0.982542</td>\n",
       "      <td>0.975559</td>\n",
       "      <td>0.978337</td>\n",
       "      <td>0.980433</td>\n",
       "      <td>0.978209</td>\n",
       "      <td>0.002958</td>\n",
       "      <td>4</td>\n",
       "    </tr>\n",
       "    <tr>\n",
       "      <th>11</th>\n",
       "      <td>14.698447</td>\n",
       "      <td>0.589340</td>\n",
       "      <td>0.003300</td>\n",
       "      <td>0.000281</td>\n",
       "      <td>100</td>\n",
       "      <td>balanced</td>\n",
       "      <td>{'C': 100, 'class_weight': 'balanced'}</td>\n",
       "      <td>0.971369</td>\n",
       "      <td>0.977654</td>\n",
       "      <td>0.974860</td>\n",
       "      <td>0.977654</td>\n",
       "      <td>0.975559</td>\n",
       "      <td>0.969972</td>\n",
       "      <td>0.977654</td>\n",
       "      <td>0.970670</td>\n",
       "      <td>0.962963</td>\n",
       "      <td>0.978337</td>\n",
       "      <td>0.973669</td>\n",
       "      <td>0.004658</td>\n",
       "      <td>7</td>\n",
       "    </tr>\n",
       "    <tr>\n",
       "      <th>12</th>\n",
       "      <td>20.436544</td>\n",
       "      <td>4.038092</td>\n",
       "      <td>0.013488</td>\n",
       "      <td>0.012635</td>\n",
       "      <td>1000</td>\n",
       "      <td>{0: 1, 1: 1}</td>\n",
       "      <td>{'C': 1000, 'class_weight': {0: 1, 1: 1}}</td>\n",
       "      <td>0.970670</td>\n",
       "      <td>0.976955</td>\n",
       "      <td>0.970670</td>\n",
       "      <td>0.978352</td>\n",
       "      <td>0.971369</td>\n",
       "      <td>0.982542</td>\n",
       "      <td>0.972765</td>\n",
       "      <td>0.973464</td>\n",
       "      <td>0.976240</td>\n",
       "      <td>0.961565</td>\n",
       "      <td>0.973459</td>\n",
       "      <td>0.005369</td>\n",
       "      <td>8</td>\n",
       "    </tr>\n",
       "    <tr>\n",
       "      <th>13</th>\n",
       "      <td>22.278455</td>\n",
       "      <td>3.952154</td>\n",
       "      <td>0.006060</td>\n",
       "      <td>0.004269</td>\n",
       "      <td>1000</td>\n",
       "      <td>balanced</td>\n",
       "      <td>{'C': 1000, 'class_weight': 'balanced'}</td>\n",
       "      <td>0.974162</td>\n",
       "      <td>0.973464</td>\n",
       "      <td>0.959497</td>\n",
       "      <td>0.976955</td>\n",
       "      <td>0.961592</td>\n",
       "      <td>0.970670</td>\n",
       "      <td>0.972765</td>\n",
       "      <td>0.958799</td>\n",
       "      <td>0.977638</td>\n",
       "      <td>0.981132</td>\n",
       "      <td>0.970668</td>\n",
       "      <td>0.007550</td>\n",
       "      <td>13</td>\n",
       "    </tr>\n",
       "  </tbody>\n",
       "</table>\n",
       "</div>"
      ],
      "text/plain": [
       "    mean_fit_time  std_fit_time  mean_score_time  std_score_time param_C  \\\n",
       "0        0.067043      0.015112         0.005495        0.005022   0.001   \n",
       "1        0.129222      0.038246         0.005577        0.003026   0.001   \n",
       "2        0.106115      0.053240         0.020416        0.045160    0.01   \n",
       "3        0.569645      0.281467         0.003367        0.000886    0.01   \n",
       "4        0.724118      0.322835         0.004992        0.002068     0.1   \n",
       "5        3.026904      0.825948         0.008067        0.015337     0.1   \n",
       "6        3.008573      0.900897         0.007850        0.007868       1   \n",
       "7       16.433442      2.413215         0.007260        0.003504       1   \n",
       "8        6.205535      0.231656         0.003481        0.000471      10   \n",
       "9       14.519821      0.568743         0.003143        0.000644      10   \n",
       "10      12.269337      0.270419         0.004005        0.001751     100   \n",
       "11      14.698447      0.589340         0.003300        0.000281     100   \n",
       "12      20.436544      4.038092         0.013488        0.012635    1000   \n",
       "13      22.278455      3.952154         0.006060        0.004269    1000   \n",
       "\n",
       "   param_class_weight                                      params  \\\n",
       "0        {0: 1, 1: 1}  {'C': 0.001, 'class_weight': {0: 1, 1: 1}}   \n",
       "1            balanced    {'C': 0.001, 'class_weight': 'balanced'}   \n",
       "2        {0: 1, 1: 1}   {'C': 0.01, 'class_weight': {0: 1, 1: 1}}   \n",
       "3            balanced     {'C': 0.01, 'class_weight': 'balanced'}   \n",
       "4        {0: 1, 1: 1}    {'C': 0.1, 'class_weight': {0: 1, 1: 1}}   \n",
       "5            balanced      {'C': 0.1, 'class_weight': 'balanced'}   \n",
       "6        {0: 1, 1: 1}      {'C': 1, 'class_weight': {0: 1, 1: 1}}   \n",
       "7            balanced        {'C': 1, 'class_weight': 'balanced'}   \n",
       "8        {0: 1, 1: 1}     {'C': 10, 'class_weight': {0: 1, 1: 1}}   \n",
       "9            balanced       {'C': 10, 'class_weight': 'balanced'}   \n",
       "10       {0: 1, 1: 1}    {'C': 100, 'class_weight': {0: 1, 1: 1}}   \n",
       "11           balanced      {'C': 100, 'class_weight': 'balanced'}   \n",
       "12       {0: 1, 1: 1}   {'C': 1000, 'class_weight': {0: 1, 1: 1}}   \n",
       "13           balanced     {'C': 1000, 'class_weight': 'balanced'}   \n",
       "\n",
       "    split0_test_score  split1_test_score  split2_test_score  \\\n",
       "0            0.972067           0.977654           0.973464   \n",
       "1            0.969274           0.974162           0.967877   \n",
       "2            0.974162           0.979050           0.974162   \n",
       "3            0.974162           0.976955           0.974860   \n",
       "4            0.976257           0.980447           0.975559   \n",
       "5            0.974860           0.976257           0.974162   \n",
       "6            0.976955           0.981145           0.975559   \n",
       "7            0.974162           0.974860           0.972067   \n",
       "8            0.976955           0.981145           0.975559   \n",
       "9            0.972765           0.974860           0.969972   \n",
       "10           0.972067           0.980447           0.976257   \n",
       "11           0.971369           0.977654           0.974860   \n",
       "12           0.970670           0.976955           0.970670   \n",
       "13           0.974162           0.973464           0.959497   \n",
       "\n",
       "    split3_test_score  split4_test_score  split5_test_score  \\\n",
       "0            0.972067           0.968575           0.977654   \n",
       "1            0.969274           0.970670           0.973464   \n",
       "2            0.976257           0.970670           0.979050   \n",
       "3            0.970670           0.972765           0.976257   \n",
       "4            0.978352           0.975559           0.981844   \n",
       "5            0.972765           0.974162           0.973464   \n",
       "6            0.979050           0.976257           0.982542   \n",
       "7            0.972067           0.974162           0.973464   \n",
       "8            0.979050           0.976257           0.982542   \n",
       "9            0.972067           0.974162           0.973464   \n",
       "10           0.978352           0.976955           0.981145   \n",
       "11           0.977654           0.975559           0.969972   \n",
       "12           0.978352           0.971369           0.982542   \n",
       "13           0.976955           0.961592           0.970670   \n",
       "\n",
       "    split6_test_score  split7_test_score  split8_test_score  \\\n",
       "0            0.977654           0.969972           0.976939   \n",
       "1            0.968575           0.966480           0.966457   \n",
       "2            0.980447           0.973464           0.980433   \n",
       "3            0.972067           0.972765           0.972048   \n",
       "4            0.980447           0.975559           0.979734   \n",
       "5            0.970670           0.972765           0.971349   \n",
       "6            0.981145           0.976257           0.979734   \n",
       "7            0.970670           0.969972           0.969951   \n",
       "8            0.981145           0.976955           0.979036   \n",
       "9            0.970670           0.969972           0.969951   \n",
       "10           0.982542           0.975559           0.978337   \n",
       "11           0.977654           0.970670           0.962963   \n",
       "12           0.972765           0.973464           0.976240   \n",
       "13           0.972765           0.958799           0.977638   \n",
       "\n",
       "    split9_test_score  mean_test_score  std_test_score  rank_test_score  \n",
       "0            0.973445         0.973949        0.003200                6  \n",
       "1            0.966457         0.969269        0.002636               14  \n",
       "2            0.975542         0.976324        0.003144                5  \n",
       "3            0.967855         0.973040        0.002546               10  \n",
       "4            0.979036         0.978279        0.002260                3  \n",
       "5            0.970650         0.973110        0.001751                9  \n",
       "6            0.979734         0.978838        0.002316                1  \n",
       "7            0.969252         0.972063        0.001931               11  \n",
       "8            0.979734         0.978838        0.002231                2  \n",
       "9            0.969252         0.971714        0.001911               12  \n",
       "10           0.980433         0.978209        0.002958                4  \n",
       "11           0.978337         0.973669        0.004658                7  \n",
       "12           0.961565         0.973459        0.005369                8  \n",
       "13           0.981132         0.970668        0.007550               13  "
      ]
     },
     "execution_count": 14,
     "metadata": {},
     "output_type": "execute_result"
    }
   ],
   "source": [
    "pd.DataFrame(gs10cv.cv_results_)"
   ]
  },
  {
   "cell_type": "code",
   "execution_count": 15,
   "metadata": {},
   "outputs": [
    {
     "data": {
      "text/plain": [
       "{'C': 1, 'class_weight': {0: 1, 1: 1}}"
      ]
     },
     "execution_count": 15,
     "metadata": {},
     "output_type": "execute_result"
    }
   ],
   "source": [
    "gs10cv.best_params_"
   ]
  },
  {
   "cell_type": "code",
   "execution_count": 16,
   "metadata": {},
   "outputs": [
    {
     "data": {
      "text/plain": [
       "mean_fit_time                                        3.00857\n",
       "std_fit_time                                        0.900897\n",
       "mean_score_time                                   0.00784965\n",
       "std_score_time                                    0.00786795\n",
       "param_C                                                    1\n",
       "param_class_weight                              {0: 1, 1: 1}\n",
       "params                {'C': 1, 'class_weight': {0: 1, 1: 1}}\n",
       "split0_test_score                                   0.976955\n",
       "split1_test_score                                   0.981145\n",
       "split2_test_score                                   0.975559\n",
       "split3_test_score                                    0.97905\n",
       "split4_test_score                                   0.976257\n",
       "split5_test_score                                   0.982542\n",
       "split6_test_score                                   0.981145\n",
       "split7_test_score                                   0.976257\n",
       "split8_test_score                                   0.979734\n",
       "split9_test_score                                   0.979734\n",
       "mean_test_score                                     0.978838\n",
       "std_test_score                                    0.00231603\n",
       "rank_test_score                                            1\n",
       "Name: 6, dtype: object"
      ]
     },
     "execution_count": 16,
     "metadata": {},
     "output_type": "execute_result"
    }
   ],
   "source": [
    "pd.DataFrame(gs10cv.cv_results_).iloc[gs10cv.best_index_]"
   ]
  },
  {
   "cell_type": "code",
   "execution_count": 17,
   "metadata": {},
   "outputs": [],
   "source": [
    "# Save model\n",
    "SVMClassFile = open('./models/SVMClass_BestCV_STDData_pickle_file', 'wb')\n",
    "pickle.dump(gs10cv, SVMClassFile) "
   ]
  },
  {
   "cell_type": "markdown",
   "metadata": {},
   "source": [
    "### No-correlated Data Training"
   ]
  },
  {
   "cell_type": "markdown",
   "metadata": {},
   "source": [
    "Grid Search 10-Fold CV:"
   ]
  },
  {
   "cell_type": "code",
   "execution_count": 18,
   "metadata": {},
   "outputs": [],
   "source": [
    "gs10cv_nc = GridSearchCV(SVMClass, param_grid = grid, cv = 10, n_jobs = -1)"
   ]
  },
  {
   "cell_type": "markdown",
   "metadata": {},
   "source": [
    "Training:"
   ]
  },
  {
   "cell_type": "code",
   "execution_count": 19,
   "metadata": {},
   "outputs": [
    {
     "name": "stderr",
     "output_type": "stream",
     "text": [
      "/usr/local/lib/python3.7/site-packages/sklearn/svm/_base.py:947: ConvergenceWarning: Liblinear failed to converge, increase the number of iterations.\n",
      "  \"the number of iterations.\", ConvergenceWarning)\n"
     ]
    },
    {
     "data": {
      "text/plain": [
       "GridSearchCV(cv=10, error_score=nan,\n",
       "             estimator=LinearSVC(C=1.0, class_weight=None, dual=True,\n",
       "                                 fit_intercept=True, intercept_scaling=1,\n",
       "                                 loss='squared_hinge', max_iter=5000,\n",
       "                                 multi_class='ovr', penalty='l2',\n",
       "                                 random_state=1234, tol=0.0001, verbose=0),\n",
       "             iid='deprecated', n_jobs=-1,\n",
       "             param_grid={'C': [0.001, 0.01, 0.1, 1, 10, 100, 1000],\n",
       "                         'class_weight': [{0: 1, 1: 1}, 'balanced']},\n",
       "             pre_dispatch='2*n_jobs', refit=True, return_train_score=False,\n",
       "             scoring=None, verbose=0)"
      ]
     },
     "execution_count": 19,
     "metadata": {},
     "output_type": "execute_result"
    }
   ],
   "source": [
    "gs10cv_nc.fit(X_train_NC, y_train_NC)"
   ]
  },
  {
   "cell_type": "code",
   "execution_count": 20,
   "metadata": {},
   "outputs": [
    {
     "data": {
      "text/html": [
       "<div>\n",
       "<style scoped>\n",
       "    .dataframe tbody tr th:only-of-type {\n",
       "        vertical-align: middle;\n",
       "    }\n",
       "\n",
       "    .dataframe tbody tr th {\n",
       "        vertical-align: top;\n",
       "    }\n",
       "\n",
       "    .dataframe thead th {\n",
       "        text-align: right;\n",
       "    }\n",
       "</style>\n",
       "<table border=\"1\" class=\"dataframe\">\n",
       "  <thead>\n",
       "    <tr style=\"text-align: right;\">\n",
       "      <th></th>\n",
       "      <th>mean_fit_time</th>\n",
       "      <th>std_fit_time</th>\n",
       "      <th>mean_score_time</th>\n",
       "      <th>std_score_time</th>\n",
       "      <th>param_C</th>\n",
       "      <th>param_class_weight</th>\n",
       "      <th>params</th>\n",
       "      <th>split0_test_score</th>\n",
       "      <th>split1_test_score</th>\n",
       "      <th>split2_test_score</th>\n",
       "      <th>split3_test_score</th>\n",
       "      <th>split4_test_score</th>\n",
       "      <th>split5_test_score</th>\n",
       "      <th>split6_test_score</th>\n",
       "      <th>split7_test_score</th>\n",
       "      <th>split8_test_score</th>\n",
       "      <th>split9_test_score</th>\n",
       "      <th>mean_test_score</th>\n",
       "      <th>std_test_score</th>\n",
       "      <th>rank_test_score</th>\n",
       "    </tr>\n",
       "  </thead>\n",
       "  <tbody>\n",
       "    <tr>\n",
       "      <th>0</th>\n",
       "      <td>0.072511</td>\n",
       "      <td>0.016275</td>\n",
       "      <td>0.004814</td>\n",
       "      <td>0.001002</td>\n",
       "      <td>0.001</td>\n",
       "      <td>{0: 1, 1: 1}</td>\n",
       "      <td>{'C': 0.001, 'class_weight': {0: 1, 1: 1}}</td>\n",
       "      <td>0.972765</td>\n",
       "      <td>0.976955</td>\n",
       "      <td>0.972067</td>\n",
       "      <td>0.972765</td>\n",
       "      <td>0.969274</td>\n",
       "      <td>0.977654</td>\n",
       "      <td>0.979749</td>\n",
       "      <td>0.969274</td>\n",
       "      <td>0.976240</td>\n",
       "      <td>0.973445</td>\n",
       "      <td>0.974019</td>\n",
       "      <td>0.003345</td>\n",
       "      <td>7</td>\n",
       "    </tr>\n",
       "    <tr>\n",
       "      <th>1</th>\n",
       "      <td>0.096511</td>\n",
       "      <td>0.018379</td>\n",
       "      <td>0.005374</td>\n",
       "      <td>0.004214</td>\n",
       "      <td>0.001</td>\n",
       "      <td>balanced</td>\n",
       "      <td>{'C': 0.001, 'class_weight': 'balanced'}</td>\n",
       "      <td>0.969972</td>\n",
       "      <td>0.974860</td>\n",
       "      <td>0.967877</td>\n",
       "      <td>0.969972</td>\n",
       "      <td>0.970670</td>\n",
       "      <td>0.971369</td>\n",
       "      <td>0.968575</td>\n",
       "      <td>0.967179</td>\n",
       "      <td>0.968553</td>\n",
       "      <td>0.964361</td>\n",
       "      <td>0.969339</td>\n",
       "      <td>0.002645</td>\n",
       "      <td>14</td>\n",
       "    </tr>\n",
       "    <tr>\n",
       "      <th>2</th>\n",
       "      <td>0.174571</td>\n",
       "      <td>0.054502</td>\n",
       "      <td>0.006091</td>\n",
       "      <td>0.005424</td>\n",
       "      <td>0.01</td>\n",
       "      <td>{0: 1, 1: 1}</td>\n",
       "      <td>{'C': 0.01, 'class_weight': {0: 1, 1: 1}}</td>\n",
       "      <td>0.974162</td>\n",
       "      <td>0.979050</td>\n",
       "      <td>0.974162</td>\n",
       "      <td>0.976955</td>\n",
       "      <td>0.970670</td>\n",
       "      <td>0.978352</td>\n",
       "      <td>0.980447</td>\n",
       "      <td>0.973464</td>\n",
       "      <td>0.980433</td>\n",
       "      <td>0.975542</td>\n",
       "      <td>0.976324</td>\n",
       "      <td>0.003097</td>\n",
       "      <td>6</td>\n",
       "    </tr>\n",
       "    <tr>\n",
       "      <th>3</th>\n",
       "      <td>0.345941</td>\n",
       "      <td>0.051665</td>\n",
       "      <td>0.004582</td>\n",
       "      <td>0.002179</td>\n",
       "      <td>0.01</td>\n",
       "      <td>balanced</td>\n",
       "      <td>{'C': 0.01, 'class_weight': 'balanced'}</td>\n",
       "      <td>0.974860</td>\n",
       "      <td>0.976955</td>\n",
       "      <td>0.974860</td>\n",
       "      <td>0.969972</td>\n",
       "      <td>0.972765</td>\n",
       "      <td>0.976257</td>\n",
       "      <td>0.972765</td>\n",
       "      <td>0.972067</td>\n",
       "      <td>0.972048</td>\n",
       "      <td>0.967855</td>\n",
       "      <td>0.973040</td>\n",
       "      <td>0.002659</td>\n",
       "      <td>12</td>\n",
       "    </tr>\n",
       "    <tr>\n",
       "      <th>4</th>\n",
       "      <td>0.346532</td>\n",
       "      <td>0.057209</td>\n",
       "      <td>0.003759</td>\n",
       "      <td>0.001156</td>\n",
       "      <td>0.1</td>\n",
       "      <td>{0: 1, 1: 1}</td>\n",
       "      <td>{'C': 0.1, 'class_weight': {0: 1, 1: 1}}</td>\n",
       "      <td>0.975559</td>\n",
       "      <td>0.979749</td>\n",
       "      <td>0.975559</td>\n",
       "      <td>0.976955</td>\n",
       "      <td>0.972765</td>\n",
       "      <td>0.980447</td>\n",
       "      <td>0.981145</td>\n",
       "      <td>0.973464</td>\n",
       "      <td>0.981831</td>\n",
       "      <td>0.979036</td>\n",
       "      <td>0.977651</td>\n",
       "      <td>0.003073</td>\n",
       "      <td>4</td>\n",
       "    </tr>\n",
       "    <tr>\n",
       "      <th>5</th>\n",
       "      <td>2.928549</td>\n",
       "      <td>0.289189</td>\n",
       "      <td>0.005061</td>\n",
       "      <td>0.002702</td>\n",
       "      <td>0.1</td>\n",
       "      <td>balanced</td>\n",
       "      <td>{'C': 0.1, 'class_weight': 'balanced'}</td>\n",
       "      <td>0.974860</td>\n",
       "      <td>0.978352</td>\n",
       "      <td>0.974860</td>\n",
       "      <td>0.969972</td>\n",
       "      <td>0.972765</td>\n",
       "      <td>0.976257</td>\n",
       "      <td>0.974162</td>\n",
       "      <td>0.971369</td>\n",
       "      <td>0.972048</td>\n",
       "      <td>0.967855</td>\n",
       "      <td>0.973250</td>\n",
       "      <td>0.002935</td>\n",
       "      <td>9</td>\n",
       "    </tr>\n",
       "    <tr>\n",
       "      <th>6</th>\n",
       "      <td>3.288173</td>\n",
       "      <td>0.410353</td>\n",
       "      <td>0.004000</td>\n",
       "      <td>0.001605</td>\n",
       "      <td>1</td>\n",
       "      <td>{0: 1, 1: 1}</td>\n",
       "      <td>{'C': 1, 'class_weight': {0: 1, 1: 1}}</td>\n",
       "      <td>0.975559</td>\n",
       "      <td>0.979749</td>\n",
       "      <td>0.975559</td>\n",
       "      <td>0.976955</td>\n",
       "      <td>0.972765</td>\n",
       "      <td>0.980447</td>\n",
       "      <td>0.981145</td>\n",
       "      <td>0.974162</td>\n",
       "      <td>0.981831</td>\n",
       "      <td>0.979036</td>\n",
       "      <td>0.977721</td>\n",
       "      <td>0.002984</td>\n",
       "      <td>3</td>\n",
       "    </tr>\n",
       "    <tr>\n",
       "      <th>7</th>\n",
       "      <td>20.338766</td>\n",
       "      <td>3.271273</td>\n",
       "      <td>0.016011</td>\n",
       "      <td>0.014751</td>\n",
       "      <td>1</td>\n",
       "      <td>balanced</td>\n",
       "      <td>{'C': 1, 'class_weight': 'balanced'}</td>\n",
       "      <td>0.974162</td>\n",
       "      <td>0.977654</td>\n",
       "      <td>0.974860</td>\n",
       "      <td>0.970670</td>\n",
       "      <td>0.972765</td>\n",
       "      <td>0.976257</td>\n",
       "      <td>0.974162</td>\n",
       "      <td>0.972067</td>\n",
       "      <td>0.972048</td>\n",
       "      <td>0.967855</td>\n",
       "      <td>0.973250</td>\n",
       "      <td>0.002675</td>\n",
       "      <td>9</td>\n",
       "    </tr>\n",
       "    <tr>\n",
       "      <th>8</th>\n",
       "      <td>7.889672</td>\n",
       "      <td>0.098631</td>\n",
       "      <td>0.003510</td>\n",
       "      <td>0.001085</td>\n",
       "      <td>10</td>\n",
       "      <td>{0: 1, 1: 1}</td>\n",
       "      <td>{'C': 10, 'class_weight': {0: 1, 1: 1}}</td>\n",
       "      <td>0.975559</td>\n",
       "      <td>0.979749</td>\n",
       "      <td>0.975559</td>\n",
       "      <td>0.977654</td>\n",
       "      <td>0.972765</td>\n",
       "      <td>0.980447</td>\n",
       "      <td>0.981145</td>\n",
       "      <td>0.974162</td>\n",
       "      <td>0.981831</td>\n",
       "      <td>0.979734</td>\n",
       "      <td>0.977860</td>\n",
       "      <td>0.003010</td>\n",
       "      <td>2</td>\n",
       "    </tr>\n",
       "    <tr>\n",
       "      <th>9</th>\n",
       "      <td>17.747058</td>\n",
       "      <td>0.976429</td>\n",
       "      <td>0.004255</td>\n",
       "      <td>0.001413</td>\n",
       "      <td>10</td>\n",
       "      <td>balanced</td>\n",
       "      <td>{'C': 10, 'class_weight': 'balanced'}</td>\n",
       "      <td>0.974162</td>\n",
       "      <td>0.977654</td>\n",
       "      <td>0.974860</td>\n",
       "      <td>0.969972</td>\n",
       "      <td>0.972765</td>\n",
       "      <td>0.976257</td>\n",
       "      <td>0.974162</td>\n",
       "      <td>0.971369</td>\n",
       "      <td>0.972048</td>\n",
       "      <td>0.967855</td>\n",
       "      <td>0.973110</td>\n",
       "      <td>0.002785</td>\n",
       "      <td>11</td>\n",
       "    </tr>\n",
       "    <tr>\n",
       "      <th>10</th>\n",
       "      <td>15.145197</td>\n",
       "      <td>0.359181</td>\n",
       "      <td>0.003471</td>\n",
       "      <td>0.001386</td>\n",
       "      <td>100</td>\n",
       "      <td>{0: 1, 1: 1}</td>\n",
       "      <td>{'C': 100, 'class_weight': {0: 1, 1: 1}}</td>\n",
       "      <td>0.975559</td>\n",
       "      <td>0.980447</td>\n",
       "      <td>0.975559</td>\n",
       "      <td>0.979749</td>\n",
       "      <td>0.975559</td>\n",
       "      <td>0.981844</td>\n",
       "      <td>0.981844</td>\n",
       "      <td>0.974162</td>\n",
       "      <td>0.980433</td>\n",
       "      <td>0.979734</td>\n",
       "      <td>0.978489</td>\n",
       "      <td>0.002788</td>\n",
       "      <td>1</td>\n",
       "    </tr>\n",
       "    <tr>\n",
       "      <th>11</th>\n",
       "      <td>19.591599</td>\n",
       "      <td>0.378313</td>\n",
       "      <td>0.003652</td>\n",
       "      <td>0.001386</td>\n",
       "      <td>100</td>\n",
       "      <td>balanced</td>\n",
       "      <td>{'C': 100, 'class_weight': 'balanced'}</td>\n",
       "      <td>0.974860</td>\n",
       "      <td>0.979749</td>\n",
       "      <td>0.975559</td>\n",
       "      <td>0.974162</td>\n",
       "      <td>0.975559</td>\n",
       "      <td>0.981145</td>\n",
       "      <td>0.979050</td>\n",
       "      <td>0.978352</td>\n",
       "      <td>0.976939</td>\n",
       "      <td>0.976240</td>\n",
       "      <td>0.977162</td>\n",
       "      <td>0.002188</td>\n",
       "      <td>5</td>\n",
       "    </tr>\n",
       "    <tr>\n",
       "      <th>12</th>\n",
       "      <td>19.349106</td>\n",
       "      <td>1.263056</td>\n",
       "      <td>0.005189</td>\n",
       "      <td>0.003010</td>\n",
       "      <td>1000</td>\n",
       "      <td>{0: 1, 1: 1}</td>\n",
       "      <td>{'C': 1000, 'class_weight': {0: 1, 1: 1}}</td>\n",
       "      <td>0.977654</td>\n",
       "      <td>0.956704</td>\n",
       "      <td>0.976955</td>\n",
       "      <td>0.978352</td>\n",
       "      <td>0.972067</td>\n",
       "      <td>0.976257</td>\n",
       "      <td>0.972765</td>\n",
       "      <td>0.972765</td>\n",
       "      <td>0.980433</td>\n",
       "      <td>0.972048</td>\n",
       "      <td>0.973600</td>\n",
       "      <td>0.006290</td>\n",
       "      <td>8</td>\n",
       "    </tr>\n",
       "    <tr>\n",
       "      <th>13</th>\n",
       "      <td>17.759900</td>\n",
       "      <td>2.997603</td>\n",
       "      <td>0.003675</td>\n",
       "      <td>0.001294</td>\n",
       "      <td>1000</td>\n",
       "      <td>balanced</td>\n",
       "      <td>{'C': 1000, 'class_weight': 'balanced'}</td>\n",
       "      <td>0.974860</td>\n",
       "      <td>0.978352</td>\n",
       "      <td>0.977654</td>\n",
       "      <td>0.980447</td>\n",
       "      <td>0.941341</td>\n",
       "      <td>0.981844</td>\n",
       "      <td>0.979050</td>\n",
       "      <td>0.976257</td>\n",
       "      <td>0.946890</td>\n",
       "      <td>0.967855</td>\n",
       "      <td>0.970455</td>\n",
       "      <td>0.013713</td>\n",
       "      <td>13</td>\n",
       "    </tr>\n",
       "  </tbody>\n",
       "</table>\n",
       "</div>"
      ],
      "text/plain": [
       "    mean_fit_time  std_fit_time  mean_score_time  std_score_time param_C  \\\n",
       "0        0.072511      0.016275         0.004814        0.001002   0.001   \n",
       "1        0.096511      0.018379         0.005374        0.004214   0.001   \n",
       "2        0.174571      0.054502         0.006091        0.005424    0.01   \n",
       "3        0.345941      0.051665         0.004582        0.002179    0.01   \n",
       "4        0.346532      0.057209         0.003759        0.001156     0.1   \n",
       "5        2.928549      0.289189         0.005061        0.002702     0.1   \n",
       "6        3.288173      0.410353         0.004000        0.001605       1   \n",
       "7       20.338766      3.271273         0.016011        0.014751       1   \n",
       "8        7.889672      0.098631         0.003510        0.001085      10   \n",
       "9       17.747058      0.976429         0.004255        0.001413      10   \n",
       "10      15.145197      0.359181         0.003471        0.001386     100   \n",
       "11      19.591599      0.378313         0.003652        0.001386     100   \n",
       "12      19.349106      1.263056         0.005189        0.003010    1000   \n",
       "13      17.759900      2.997603         0.003675        0.001294    1000   \n",
       "\n",
       "   param_class_weight                                      params  \\\n",
       "0        {0: 1, 1: 1}  {'C': 0.001, 'class_weight': {0: 1, 1: 1}}   \n",
       "1            balanced    {'C': 0.001, 'class_weight': 'balanced'}   \n",
       "2        {0: 1, 1: 1}   {'C': 0.01, 'class_weight': {0: 1, 1: 1}}   \n",
       "3            balanced     {'C': 0.01, 'class_weight': 'balanced'}   \n",
       "4        {0: 1, 1: 1}    {'C': 0.1, 'class_weight': {0: 1, 1: 1}}   \n",
       "5            balanced      {'C': 0.1, 'class_weight': 'balanced'}   \n",
       "6        {0: 1, 1: 1}      {'C': 1, 'class_weight': {0: 1, 1: 1}}   \n",
       "7            balanced        {'C': 1, 'class_weight': 'balanced'}   \n",
       "8        {0: 1, 1: 1}     {'C': 10, 'class_weight': {0: 1, 1: 1}}   \n",
       "9            balanced       {'C': 10, 'class_weight': 'balanced'}   \n",
       "10       {0: 1, 1: 1}    {'C': 100, 'class_weight': {0: 1, 1: 1}}   \n",
       "11           balanced      {'C': 100, 'class_weight': 'balanced'}   \n",
       "12       {0: 1, 1: 1}   {'C': 1000, 'class_weight': {0: 1, 1: 1}}   \n",
       "13           balanced     {'C': 1000, 'class_weight': 'balanced'}   \n",
       "\n",
       "    split0_test_score  split1_test_score  split2_test_score  \\\n",
       "0            0.972765           0.976955           0.972067   \n",
       "1            0.969972           0.974860           0.967877   \n",
       "2            0.974162           0.979050           0.974162   \n",
       "3            0.974860           0.976955           0.974860   \n",
       "4            0.975559           0.979749           0.975559   \n",
       "5            0.974860           0.978352           0.974860   \n",
       "6            0.975559           0.979749           0.975559   \n",
       "7            0.974162           0.977654           0.974860   \n",
       "8            0.975559           0.979749           0.975559   \n",
       "9            0.974162           0.977654           0.974860   \n",
       "10           0.975559           0.980447           0.975559   \n",
       "11           0.974860           0.979749           0.975559   \n",
       "12           0.977654           0.956704           0.976955   \n",
       "13           0.974860           0.978352           0.977654   \n",
       "\n",
       "    split3_test_score  split4_test_score  split5_test_score  \\\n",
       "0            0.972765           0.969274           0.977654   \n",
       "1            0.969972           0.970670           0.971369   \n",
       "2            0.976955           0.970670           0.978352   \n",
       "3            0.969972           0.972765           0.976257   \n",
       "4            0.976955           0.972765           0.980447   \n",
       "5            0.969972           0.972765           0.976257   \n",
       "6            0.976955           0.972765           0.980447   \n",
       "7            0.970670           0.972765           0.976257   \n",
       "8            0.977654           0.972765           0.980447   \n",
       "9            0.969972           0.972765           0.976257   \n",
       "10           0.979749           0.975559           0.981844   \n",
       "11           0.974162           0.975559           0.981145   \n",
       "12           0.978352           0.972067           0.976257   \n",
       "13           0.980447           0.941341           0.981844   \n",
       "\n",
       "    split6_test_score  split7_test_score  split8_test_score  \\\n",
       "0            0.979749           0.969274           0.976240   \n",
       "1            0.968575           0.967179           0.968553   \n",
       "2            0.980447           0.973464           0.980433   \n",
       "3            0.972765           0.972067           0.972048   \n",
       "4            0.981145           0.973464           0.981831   \n",
       "5            0.974162           0.971369           0.972048   \n",
       "6            0.981145           0.974162           0.981831   \n",
       "7            0.974162           0.972067           0.972048   \n",
       "8            0.981145           0.974162           0.981831   \n",
       "9            0.974162           0.971369           0.972048   \n",
       "10           0.981844           0.974162           0.980433   \n",
       "11           0.979050           0.978352           0.976939   \n",
       "12           0.972765           0.972765           0.980433   \n",
       "13           0.979050           0.976257           0.946890   \n",
       "\n",
       "    split9_test_score  mean_test_score  std_test_score  rank_test_score  \n",
       "0            0.973445         0.974019        0.003345                7  \n",
       "1            0.964361         0.969339        0.002645               14  \n",
       "2            0.975542         0.976324        0.003097                6  \n",
       "3            0.967855         0.973040        0.002659               12  \n",
       "4            0.979036         0.977651        0.003073                4  \n",
       "5            0.967855         0.973250        0.002935                9  \n",
       "6            0.979036         0.977721        0.002984                3  \n",
       "7            0.967855         0.973250        0.002675                9  \n",
       "8            0.979734         0.977860        0.003010                2  \n",
       "9            0.967855         0.973110        0.002785               11  \n",
       "10           0.979734         0.978489        0.002788                1  \n",
       "11           0.976240         0.977162        0.002188                5  \n",
       "12           0.972048         0.973600        0.006290                8  \n",
       "13           0.967855         0.970455        0.013713               13  "
      ]
     },
     "execution_count": 20,
     "metadata": {},
     "output_type": "execute_result"
    }
   ],
   "source": [
    "pd.DataFrame(gs10cv_nc.cv_results_)"
   ]
  },
  {
   "cell_type": "code",
   "execution_count": 21,
   "metadata": {},
   "outputs": [
    {
     "data": {
      "text/plain": [
       "{'C': 100, 'class_weight': {0: 1, 1: 1}}"
      ]
     },
     "execution_count": 21,
     "metadata": {},
     "output_type": "execute_result"
    }
   ],
   "source": [
    "gs10cv_nc.best_params_"
   ]
  },
  {
   "cell_type": "code",
   "execution_count": 22,
   "metadata": {},
   "outputs": [
    {
     "data": {
      "text/plain": [
       "mean_fit_time                                          15.1452\n",
       "std_fit_time                                          0.359181\n",
       "mean_score_time                                     0.00347054\n",
       "std_score_time                                      0.00138645\n",
       "param_C                                                    100\n",
       "param_class_weight                                {0: 1, 1: 1}\n",
       "params                {'C': 100, 'class_weight': {0: 1, 1: 1}}\n",
       "split0_test_score                                     0.975559\n",
       "split1_test_score                                     0.980447\n",
       "split2_test_score                                     0.975559\n",
       "split3_test_score                                     0.979749\n",
       "split4_test_score                                     0.975559\n",
       "split5_test_score                                     0.981844\n",
       "split6_test_score                                     0.981844\n",
       "split7_test_score                                     0.974162\n",
       "split8_test_score                                     0.980433\n",
       "split9_test_score                                     0.979734\n",
       "mean_test_score                                       0.978489\n",
       "std_test_score                                      0.00278821\n",
       "rank_test_score                                              1\n",
       "Name: 10, dtype: object"
      ]
     },
     "execution_count": 22,
     "metadata": {},
     "output_type": "execute_result"
    }
   ],
   "source": [
    "pd.DataFrame(gs10cv_nc.cv_results_).iloc[gs10cv_nc.best_index_]"
   ]
  },
  {
   "cell_type": "code",
   "execution_count": 23,
   "metadata": {},
   "outputs": [],
   "source": [
    "# Save model\n",
    "SVMClassFileNC = open('./models/SVMClass_BestCV_NCorrSTDData_pickle_file', 'wb')\n",
    "pickle.dump(gs10cv_nc, SVMClassFileNC) "
   ]
  },
  {
   "cell_type": "markdown",
   "metadata": {},
   "source": [
    "## Testing"
   ]
  },
  {
   "cell_type": "markdown",
   "metadata": {},
   "source": [
    "### Normal Data Model Testing"
   ]
  },
  {
   "cell_type": "code",
   "execution_count": 24,
   "metadata": {},
   "outputs": [],
   "source": [
    "y_pred = gs10cv.predict(X_test)"
   ]
  },
  {
   "cell_type": "code",
   "execution_count": 25,
   "metadata": {},
   "outputs": [
    {
     "name": "stdout",
     "output_type": "stream",
     "text": [
      "              precision    recall  f1-score   support\n",
      "\n",
      "           0       0.98      0.99      0.99      3249\n",
      "           1       0.93      0.80      0.86       331\n",
      "\n",
      "    accuracy                           0.98      3580\n",
      "   macro avg       0.96      0.90      0.92      3580\n",
      "weighted avg       0.98      0.98      0.98      3580\n",
      "\n"
     ]
    }
   ],
   "source": [
    "print(classification_report(y_test, y_pred))"
   ]
  },
  {
   "cell_type": "code",
   "execution_count": 26,
   "metadata": {},
   "outputs": [
    {
     "name": "stdout",
     "output_type": "stream",
     "text": [
      "Confusion Matrix:\n"
     ]
    },
    {
     "data": {
      "text/html": [
       "<div>\n",
       "<style scoped>\n",
       "    .dataframe tbody tr th:only-of-type {\n",
       "        vertical-align: middle;\n",
       "    }\n",
       "\n",
       "    .dataframe tbody tr th {\n",
       "        vertical-align: top;\n",
       "    }\n",
       "\n",
       "    .dataframe thead th {\n",
       "        text-align: right;\n",
       "    }\n",
       "</style>\n",
       "<table border=\"1\" class=\"dataframe\">\n",
       "  <thead>\n",
       "    <tr style=\"text-align: right;\">\n",
       "      <th>Predicted</th>\n",
       "      <th>0</th>\n",
       "      <th>1</th>\n",
       "    </tr>\n",
       "    <tr>\n",
       "      <th>Real</th>\n",
       "      <th></th>\n",
       "      <th></th>\n",
       "    </tr>\n",
       "  </thead>\n",
       "  <tbody>\n",
       "    <tr>\n",
       "      <th>0</th>\n",
       "      <td>3229</td>\n",
       "      <td>20</td>\n",
       "    </tr>\n",
       "    <tr>\n",
       "      <th>1</th>\n",
       "      <td>65</td>\n",
       "      <td>266</td>\n",
       "    </tr>\n",
       "  </tbody>\n",
       "</table>\n",
       "</div>"
      ],
      "text/plain": [
       "Predicted     0    1\n",
       "Real                \n",
       "0          3229   20\n",
       "1            65  266"
      ]
     },
     "execution_count": 26,
     "metadata": {},
     "output_type": "execute_result"
    }
   ],
   "source": [
    "print (\"Confusion Matrix:\")\n",
    "confusionMatrix(y_test, y_pred, classes = [0,1])"
   ]
  },
  {
   "cell_type": "code",
   "execution_count": 27,
   "metadata": {},
   "outputs": [
    {
     "name": "stdout",
     "output_type": "stream",
     "text": [
      "Test Error:\n"
     ]
    },
    {
     "data": {
      "text/plain": [
       "2.3743016759776525"
      ]
     },
     "execution_count": 27,
     "metadata": {},
     "output_type": "execute_result"
    }
   ],
   "source": [
    "print(\"Test Error:\")\n",
    "(1-accuracy_score(y_test, gs10cv.predict(X_test)))*100"
   ]
  },
  {
   "cell_type": "markdown",
   "metadata": {},
   "source": [
    "### No-correlated Data Model Testing"
   ]
  },
  {
   "cell_type": "code",
   "execution_count": 28,
   "metadata": {},
   "outputs": [],
   "source": [
    "y_pred_NC = gs10cv_nc.predict(X_test_NC)"
   ]
  },
  {
   "cell_type": "code",
   "execution_count": 29,
   "metadata": {},
   "outputs": [
    {
     "name": "stdout",
     "output_type": "stream",
     "text": [
      "              precision    recall  f1-score   support\n",
      "\n",
      "           0       0.98      0.99      0.99      3249\n",
      "           1       0.93      0.82      0.87       331\n",
      "\n",
      "    accuracy                           0.98      3580\n",
      "   macro avg       0.95      0.90      0.93      3580\n",
      "weighted avg       0.98      0.98      0.98      3580\n",
      "\n"
     ]
    }
   ],
   "source": [
    "print(classification_report(y_test_NC, y_pred_NC))"
   ]
  },
  {
   "cell_type": "code",
   "execution_count": 30,
   "metadata": {},
   "outputs": [
    {
     "name": "stdout",
     "output_type": "stream",
     "text": [
      "Confusion Matrix:\n"
     ]
    },
    {
     "data": {
      "text/html": [
       "<div>\n",
       "<style scoped>\n",
       "    .dataframe tbody tr th:only-of-type {\n",
       "        vertical-align: middle;\n",
       "    }\n",
       "\n",
       "    .dataframe tbody tr th {\n",
       "        vertical-align: top;\n",
       "    }\n",
       "\n",
       "    .dataframe thead th {\n",
       "        text-align: right;\n",
       "    }\n",
       "</style>\n",
       "<table border=\"1\" class=\"dataframe\">\n",
       "  <thead>\n",
       "    <tr style=\"text-align: right;\">\n",
       "      <th>Predicted</th>\n",
       "      <th>0</th>\n",
       "      <th>1</th>\n",
       "    </tr>\n",
       "    <tr>\n",
       "      <th>Real</th>\n",
       "      <th></th>\n",
       "      <th></th>\n",
       "    </tr>\n",
       "  </thead>\n",
       "  <tbody>\n",
       "    <tr>\n",
       "      <th>0</th>\n",
       "      <td>3228</td>\n",
       "      <td>21</td>\n",
       "    </tr>\n",
       "    <tr>\n",
       "      <th>1</th>\n",
       "      <td>61</td>\n",
       "      <td>270</td>\n",
       "    </tr>\n",
       "  </tbody>\n",
       "</table>\n",
       "</div>"
      ],
      "text/plain": [
       "Predicted     0    1\n",
       "Real                \n",
       "0          3228   21\n",
       "1            61  270"
      ]
     },
     "execution_count": 30,
     "metadata": {},
     "output_type": "execute_result"
    }
   ],
   "source": [
    "print (\"Confusion Matrix:\")\n",
    "confusionMatrix(y_test_NC, y_pred_NC, classes = [0,1])"
   ]
  },
  {
   "cell_type": "code",
   "execution_count": 31,
   "metadata": {},
   "outputs": [
    {
     "name": "stdout",
     "output_type": "stream",
     "text": [
      "Test Error:\n"
     ]
    },
    {
     "data": {
      "text/plain": [
       "2.2905027932960897"
      ]
     },
     "execution_count": 31,
     "metadata": {},
     "output_type": "execute_result"
    }
   ],
   "source": [
    "print(\"Test Error:\")\n",
    "(1-accuracy_score(y_test_NC, gs10cv_nc.predict(X_test_NC)))*100"
   ]
  },
  {
   "cell_type": "code",
   "execution_count": null,
   "metadata": {},
   "outputs": [],
   "source": []
  }
 ],
 "metadata": {
  "kernelspec": {
   "display_name": "Python 3",
   "language": "python",
   "name": "python3"
  },
  "language_info": {
   "codemirror_mode": {
    "name": "ipython",
    "version": 3
   },
   "file_extension": ".py",
   "mimetype": "text/x-python",
   "name": "python",
   "nbconvert_exporter": "python",
   "pygments_lexer": "ipython3",
   "version": "3.7.0"
  }
 },
 "nbformat": 4,
 "nbformat_minor": 2
}
