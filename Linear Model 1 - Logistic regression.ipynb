{
 "cells": [
  {
   "cell_type": "markdown",
   "metadata": {},
   "source": [
    "# Linear Model 1 - Logistic regression"
   ]
  },
  {
   "cell_type": "code",
   "execution_count": 1,
   "metadata": {},
   "outputs": [],
   "source": [
    "import pandas as pd\n",
    "import numpy as np\n",
    "import matplotlib.pyplot as plt\n",
    "from statsmodels.genmod.generalized_linear_model import GLM\n",
    "from sklearn.feature_selection import RFECV\n",
    "from sklearn.model_selection import train_test_split\n",
    "from statsmodels.genmod.families.family import Binomial\n",
    "from statsmodels.tools.tools import add_constant\n",
    "from sklearn.metrics import confusion_matrix, classification_report, accuracy_score\n",
    "from auxiliars import *\n",
    "import pickle"
   ]
  },
  {
   "cell_type": "code",
   "execution_count": 3,
   "metadata": {},
   "outputs": [],
   "source": [
    "np.random.seed(543)"
   ]
  },
  {
   "cell_type": "markdown",
   "metadata": {},
   "source": [
    "## Data"
   ]
  },
  {
   "cell_type": "markdown",
   "metadata": {},
   "source": [
    "Standarized data loading:"
   ]
  },
  {
   "cell_type": "code",
   "execution_count": 4,
   "metadata": {},
   "outputs": [],
   "source": [
    "data = pd.read_csv(\"./data/stdHTRU_2.csv\")"
   ]
  },
  {
   "cell_type": "markdown",
   "metadata": {},
   "source": [
    "We split a separate test set of relative size 20%:"
   ]
  },
  {
   "cell_type": "code",
   "execution_count": 5,
   "metadata": {},
   "outputs": [
    {
     "name": "stdout",
     "output_type": "stream",
     "text": [
      "       Profile_mean  Profile_stdev  Profile_skewness  Profile_kurtosis  \\\n",
      "0          1.149317       1.334832         -0.669570         -0.400459   \n",
      "1         -0.334168       1.802265         -0.011785         -0.370535   \n",
      "2         -0.314372      -1.053322         -0.145233         -0.116593   \n",
      "3          1.000694       1.553254         -0.513409         -0.390178   \n",
      "4         -0.871402      -0.858879          0.115609         -0.104866   \n",
      "...             ...            ...               ...               ...   \n",
      "17893      0.988208       1.943284         -0.625655         -0.406697   \n",
      "17894      0.447319       0.429062         -0.328831         -0.234643   \n",
      "17895      0.321842       1.956220         -0.299334         -0.407492   \n",
      "17896      0.133628       1.074510         -0.260050         -0.291041   \n",
      "17897     -2.105762       5.735470          0.872674         -0.272508   \n",
      "\n",
      "        DM_mean  DM_stdev  DM_skewness  DM_kurtosis  \n",
      "0     -0.319440 -0.370625    -0.072798    -0.287438  \n",
      "1     -0.371102 -0.588924     0.504427     0.211581  \n",
      "2     -0.322107 -0.235328    -0.125996    -0.391373  \n",
      "3     -0.304404 -0.275666    -0.312265    -0.481300  \n",
      "4     -0.388010 -0.763111     1.324026     1.386794  \n",
      "...         ...       ...          ...          ...  \n",
      "17893 -0.384010 -0.727295     1.586054     1.700034  \n",
      "17894  0.128776  0.939926    -1.189159    -0.906574  \n",
      "17895  0.299137  1.671568    -1.288079    -0.941330  \n",
      "17896 -0.361967 -0.664857     0.378257     0.275850  \n",
      "17897  5.961291  1.971546    -2.197327    -0.971052  \n",
      "\n",
      "[17898 rows x 8 columns]\n"
     ]
    }
   ],
   "source": [
    "X_train, X_test, y_train, y_test = train_test_split(data[data.columns[0:8]], \n",
    "                                                    data['class'], \n",
    "                                                    test_size = 0.2,\n",
    "                                                    random_state = 1234)\n",
    "print(data[data.columns[0:8]])"
   ]
  },
  {
   "cell_type": "markdown",
   "metadata": {},
   "source": [
    "I order to improve the performance of logistic regression, we will also analyze the performance of the method with no-correlated standarized data: "
   ]
  },
  {
   "cell_type": "code",
   "execution_count": 8,
   "metadata": {},
   "outputs": [],
   "source": [
    "noCorrData = pd.read_csv(\"./data/noCorrStdHTRU_2.csv\")"
   ]
  },
  {
   "cell_type": "code",
   "execution_count": 9,
   "metadata": {},
   "outputs": [
    {
     "name": "stdout",
     "output_type": "stream",
     "text": [
      "       Profile_mean  Profile_stdev  Profile_skewness   DM_mean  DM_stdev  \\\n",
      "0          1.149317       1.334832         -0.669570 -0.319440 -0.370625   \n",
      "1         -0.334168       1.802265         -0.011785 -0.371102 -0.588924   \n",
      "2         -0.314372      -1.053322         -0.145233 -0.322107 -0.235328   \n",
      "3          1.000694       1.553254         -0.513409 -0.304404 -0.275666   \n",
      "4         -0.871402      -0.858879          0.115609 -0.388010 -0.763111   \n",
      "...             ...            ...               ...       ...       ...   \n",
      "17893      0.988208       1.943284         -0.625655 -0.384010 -0.727295   \n",
      "17894      0.447319       0.429062         -0.328831  0.128776  0.939926   \n",
      "17895      0.321842       1.956220         -0.299334  0.299137  1.671568   \n",
      "17896      0.133628       1.074510         -0.260050 -0.361967 -0.664857   \n",
      "17897     -2.105762       5.735470          0.872674  5.961291  1.971546   \n",
      "\n",
      "       DM_skewness  \n",
      "0        -0.072798  \n",
      "1         0.504427  \n",
      "2        -0.125996  \n",
      "3        -0.312265  \n",
      "4         1.324026  \n",
      "...            ...  \n",
      "17893     1.586054  \n",
      "17894    -1.189159  \n",
      "17895    -1.288079  \n",
      "17896     0.378257  \n",
      "17897    -2.197327  \n",
      "\n",
      "[17898 rows x 6 columns]\n"
     ]
    }
   ],
   "source": [
    "X_train_NC, X_test_NC, y_train_NC, y_test_NC = train_test_split(noCorrData[noCorrData.columns[0:6]], \n",
    "                                                    noCorrData['class'], \n",
    "                                                    test_size = 0.2)\n",
    "\n",
    "print(noCorrData[noCorrData.columns[0:6]])"
   ]
  },
  {
   "cell_type": "markdown",
   "metadata": {},
   "source": [
    "## Model: Supervised Logistic regression"
   ]
  },
  {
   "cell_type": "markdown",
   "metadata": {},
   "source": [
    "Scikit-learn library offersa method for Logistic Regression classification."
   ]
  },
  {
   "cell_type": "code",
   "execution_count": 10,
   "metadata": {},
   "outputs": [],
   "source": [
    "from sklearn.linear_model import LogisticRegression"
   ]
  },
  {
   "cell_type": "code",
   "execution_count": 11,
   "metadata": {},
   "outputs": [],
   "source": [
    "LR = LogisticRegression(n_jobs = -1)"
   ]
  },
  {
   "cell_type": "markdown",
   "metadata": {},
   "source": [
    "LogisticRegression allow us to hypertuning the following parameters:\n",
    "- Penalty: Used to specify the norm used in the penalization.\n",
    "    - L1: Lasso regression.\n",
    "    - L2: Ridge regression.\n",
    "- C: Inverse of regularization strength\n",
    "- Algorithm to use in the optimization problem:\n",
    "    - liblinear: for small datasets.\n",
    "    - saga: for larger datasets."
   ]
  },
  {
   "cell_type": "markdown",
   "metadata": {},
   "source": [
    "In order to hypertuning model parameters and get a better idea on how the model performs on unseen data, we will use GridSearchCV."
   ]
  },
  {
   "cell_type": "code",
   "execution_count": 12,
   "metadata": {},
   "outputs": [],
   "source": [
    "from sklearn.model_selection import GridSearchCV"
   ]
  },
  {
   "cell_type": "markdown",
   "metadata": {},
   "source": [
    "Values of the 10-Fold CV Grid to test:"
   ]
  },
  {
   "cell_type": "code",
   "execution_count": 13,
   "metadata": {},
   "outputs": [],
   "source": [
    "grid = {'penalty' : ['l1','l2'],\n",
    "    'C' : np.logspace(-4, 4, 20),\n",
    "    'solver' : ['liblinear', 'saga']}"
   ]
  },
  {
   "cell_type": "code",
   "execution_count": 14,
   "metadata": {},
   "outputs": [
    {
     "data": {
      "text/plain": [
       "{'penalty': ['l1', 'l2'],\n",
       " 'C': array([1.00000000e-04, 2.63665090e-04, 6.95192796e-04, 1.83298071e-03,\n",
       "        4.83293024e-03, 1.27427499e-02, 3.35981829e-02, 8.85866790e-02,\n",
       "        2.33572147e-01, 6.15848211e-01, 1.62377674e+00, 4.28133240e+00,\n",
       "        1.12883789e+01, 2.97635144e+01, 7.84759970e+01, 2.06913808e+02,\n",
       "        5.45559478e+02, 1.43844989e+03, 3.79269019e+03, 1.00000000e+04]),\n",
       " 'solver': ['liblinear', 'saga']}"
      ]
     },
     "execution_count": 14,
     "metadata": {},
     "output_type": "execute_result"
    }
   ],
   "source": [
    "grid"
   ]
  },
  {
   "cell_type": "markdown",
   "metadata": {},
   "source": [
    "Grid Search 10-Fold CV:"
   ]
  },
  {
   "cell_type": "code",
   "execution_count": 15,
   "metadata": {},
   "outputs": [],
   "source": [
    "gs10cv = GridSearchCV(LR, param_grid = grid, cv = 10, n_jobs = -1)"
   ]
  },
  {
   "cell_type": "markdown",
   "metadata": {},
   "source": [
    "### Training"
   ]
  },
  {
   "cell_type": "code",
   "execution_count": 16,
   "metadata": {},
   "outputs": [
    {
     "name": "stderr",
     "output_type": "stream",
     "text": [
      "/home/ferja/.local/lib/python3.7/site-packages/sklearn/linear_model/_logistic.py:1539: UserWarning: 'n_jobs' > 1 does not have any effect when 'solver' is set to 'liblinear'. Got 'n_jobs' = 4.\n",
      "  \" = {}.\".format(effective_n_jobs(self.n_jobs)))\n"
     ]
    },
    {
     "data": {
      "text/plain": [
       "GridSearchCV(cv=10, error_score=nan,\n",
       "             estimator=LogisticRegression(C=1.0, class_weight=None, dual=False,\n",
       "                                          fit_intercept=True,\n",
       "                                          intercept_scaling=1, l1_ratio=None,\n",
       "                                          max_iter=100, multi_class='auto',\n",
       "                                          n_jobs=-1, penalty='l2',\n",
       "                                          random_state=None, solver='lbfgs',\n",
       "                                          tol=0.0001, verbose=0,\n",
       "                                          warm_start=False),\n",
       "             iid='deprecated', n_jobs=-1,\n",
       "             param_grid={'C': array([1.00000000e-04, 2.6366...\n",
       "       4.83293024e-03, 1.27427499e-02, 3.35981829e-02, 8.85866790e-02,\n",
       "       2.33572147e-01, 6.15848211e-01, 1.62377674e+00, 4.28133240e+00,\n",
       "       1.12883789e+01, 2.97635144e+01, 7.84759970e+01, 2.06913808e+02,\n",
       "       5.45559478e+02, 1.43844989e+03, 3.79269019e+03, 1.00000000e+04]),\n",
       "                         'penalty': ['l1', 'l2'],\n",
       "                         'solver': ['liblinear', 'saga']},\n",
       "             pre_dispatch='2*n_jobs', refit=True, return_train_score=False,\n",
       "             scoring=None, verbose=0)"
      ]
     },
     "execution_count": 16,
     "metadata": {},
     "output_type": "execute_result"
    }
   ],
   "source": [
    "gs10cv.fit(X_train, y_train)"
   ]
  },
  {
   "cell_type": "code",
   "execution_count": 17,
   "metadata": {},
   "outputs": [
    {
     "data": {
      "text/plain": [
       "{'C': 4.281332398719396, 'penalty': 'l1', 'solver': 'liblinear'}"
      ]
     },
     "execution_count": 17,
     "metadata": {},
     "output_type": "execute_result"
    }
   ],
   "source": [
    "gs10cv.best_params_"
   ]
  },
  {
   "cell_type": "code",
   "execution_count": 18,
   "metadata": {
    "scrolled": false
   },
   "outputs": [
    {
     "data": {
      "text/plain": [
       "mean_fit_time                                                 0.162662\n",
       "std_fit_time                                                  0.050302\n",
       "mean_score_time                                             0.00192318\n",
       "std_score_time                                              0.00024696\n",
       "param_C                                                        4.28133\n",
       "param_penalty                                                       l1\n",
       "param_solver                                                 liblinear\n",
       "params               {'C': 4.281332398719396, 'penalty': 'l1', 'sol...\n",
       "split0_test_score                                              0.97905\n",
       "split1_test_score                                              0.97905\n",
       "split2_test_score                                             0.976257\n",
       "split3_test_score                                             0.979749\n",
       "split4_test_score                                             0.975559\n",
       "split5_test_score                                             0.981145\n",
       "split6_test_score                                              0.98324\n",
       "split7_test_score                                              0.97905\n",
       "split8_test_score                                             0.981132\n",
       "split9_test_score                                             0.979734\n",
       "mean_test_score                                               0.979397\n",
       "std_test_score                                              0.00214541\n",
       "rank_test_score                                                      1\n",
       "Name: 44, dtype: object"
      ]
     },
     "execution_count": 18,
     "metadata": {},
     "output_type": "execute_result"
    }
   ],
   "source": [
    "pd.DataFrame(gs10cv.cv_results_).iloc[gs10cv.best_index_]"
   ]
  },
  {
   "cell_type": "code",
   "execution_count": 19,
   "metadata": {},
   "outputs": [],
   "source": [
    "# Save model\n",
    "LRFile = open('./models/LR_BestCV_STDData_pickle_file', 'wb')\n",
    "pickle.dump(gs10cv, LRFile) "
   ]
  },
  {
   "cell_type": "markdown",
   "metadata": {},
   "source": [
    "#### Training with no-correlated data"
   ]
  },
  {
   "cell_type": "markdown",
   "metadata": {},
   "source": [
    "Grid Search 10-Fold CV:"
   ]
  },
  {
   "cell_type": "code",
   "execution_count": 20,
   "metadata": {},
   "outputs": [],
   "source": [
    "gs10cv_nc = GridSearchCV(LR, param_grid = grid, cv = 10, n_jobs = -1)"
   ]
  },
  {
   "cell_type": "markdown",
   "metadata": {},
   "source": [
    "Training:"
   ]
  },
  {
   "cell_type": "code",
   "execution_count": 21,
   "metadata": {},
   "outputs": [
    {
     "name": "stderr",
     "output_type": "stream",
     "text": [
      "/home/ferja/.local/lib/python3.7/site-packages/sklearn/linear_model/_logistic.py:1539: UserWarning: 'n_jobs' > 1 does not have any effect when 'solver' is set to 'liblinear'. Got 'n_jobs' = 4.\n",
      "  \" = {}.\".format(effective_n_jobs(self.n_jobs)))\n"
     ]
    },
    {
     "data": {
      "text/plain": [
       "GridSearchCV(cv=10, error_score=nan,\n",
       "             estimator=LogisticRegression(C=1.0, class_weight=None, dual=False,\n",
       "                                          fit_intercept=True,\n",
       "                                          intercept_scaling=1, l1_ratio=None,\n",
       "                                          max_iter=100, multi_class='auto',\n",
       "                                          n_jobs=-1, penalty='l2',\n",
       "                                          random_state=None, solver='lbfgs',\n",
       "                                          tol=0.0001, verbose=0,\n",
       "                                          warm_start=False),\n",
       "             iid='deprecated', n_jobs=-1,\n",
       "             param_grid={'C': array([1.00000000e-04, 2.6366...\n",
       "       4.83293024e-03, 1.27427499e-02, 3.35981829e-02, 8.85866790e-02,\n",
       "       2.33572147e-01, 6.15848211e-01, 1.62377674e+00, 4.28133240e+00,\n",
       "       1.12883789e+01, 2.97635144e+01, 7.84759970e+01, 2.06913808e+02,\n",
       "       5.45559478e+02, 1.43844989e+03, 3.79269019e+03, 1.00000000e+04]),\n",
       "                         'penalty': ['l1', 'l2'],\n",
       "                         'solver': ['liblinear', 'saga']},\n",
       "             pre_dispatch='2*n_jobs', refit=True, return_train_score=False,\n",
       "             scoring=None, verbose=0)"
      ]
     },
     "execution_count": 21,
     "metadata": {},
     "output_type": "execute_result"
    }
   ],
   "source": [
    "gs10cv_nc.fit(X_train_NC, y_train_NC)"
   ]
  },
  {
   "cell_type": "code",
   "execution_count": 22,
   "metadata": {},
   "outputs": [
    {
     "data": {
      "text/plain": [
       "mean_fit_time                                                0.0452667\n",
       "std_fit_time                                                0.00419163\n",
       "mean_score_time                                             0.00160186\n",
       "std_score_time                                             0.000219846\n",
       "param_C                                                        4.28133\n",
       "param_penalty                                                       l1\n",
       "param_solver                                                 liblinear\n",
       "params               {'C': 4.281332398719396, 'penalty': 'l1', 'sol...\n",
       "split0_test_score                                             0.979749\n",
       "split1_test_score                                             0.972067\n",
       "split2_test_score                                              0.98324\n",
       "split3_test_score                                             0.980447\n",
       "split4_test_score                                             0.978352\n",
       "split5_test_score                                             0.976955\n",
       "split6_test_score                                             0.982542\n",
       "split7_test_score                                             0.973464\n",
       "split8_test_score                                             0.980433\n",
       "split9_test_score                                             0.980433\n",
       "mean_test_score                                               0.978768\n",
       "std_test_score                                              0.00346507\n",
       "rank_test_score                                                      1\n",
       "Name: 44, dtype: object"
      ]
     },
     "execution_count": 22,
     "metadata": {},
     "output_type": "execute_result"
    }
   ],
   "source": [
    "pd.DataFrame(gs10cv_nc.cv_results_).iloc[gs10cv_nc.best_index_]"
   ]
  },
  {
   "cell_type": "code",
   "execution_count": 23,
   "metadata": {},
   "outputs": [],
   "source": [
    "# Save model\n",
    "LRFileNC = open('./models/LR_BestCV_NCorrSTDData_pickle_file', 'wb')\n",
    "pickle.dump(gs10cv_nc, LRFile)"
   ]
  },
  {
   "cell_type": "markdown",
   "metadata": {},
   "source": [
    "### Testing "
   ]
  },
  {
   "cell_type": "code",
   "execution_count": 48,
   "metadata": {},
   "outputs": [
    {
     "name": "stdout",
     "output_type": "stream",
     "text": [
      "Confusion Matrix:\n"
     ]
    },
    {
     "data": {
      "text/html": [
       "<div>\n",
       "<style scoped>\n",
       "    .dataframe tbody tr th:only-of-type {\n",
       "        vertical-align: middle;\n",
       "    }\n",
       "\n",
       "    .dataframe tbody tr th {\n",
       "        vertical-align: top;\n",
       "    }\n",
       "\n",
       "    .dataframe thead th {\n",
       "        text-align: right;\n",
       "    }\n",
       "</style>\n",
       "<table border=\"1\" class=\"dataframe\">\n",
       "  <thead>\n",
       "    <tr style=\"text-align: right;\">\n",
       "      <th>Predicted</th>\n",
       "      <th>0</th>\n",
       "      <th>1</th>\n",
       "    </tr>\n",
       "    <tr>\n",
       "      <th>Real</th>\n",
       "      <th></th>\n",
       "      <th></th>\n",
       "    </tr>\n",
       "  </thead>\n",
       "  <tbody>\n",
       "    <tr>\n",
       "      <th>0</th>\n",
       "      <td>3229</td>\n",
       "      <td>20</td>\n",
       "    </tr>\n",
       "    <tr>\n",
       "      <th>1</th>\n",
       "      <td>60</td>\n",
       "      <td>271</td>\n",
       "    </tr>\n",
       "  </tbody>\n",
       "</table>\n",
       "</div>"
      ],
      "text/plain": [
       "Predicted     0    1\n",
       "Real                \n",
       "0          3229   20\n",
       "1            60  271"
      ]
     },
     "execution_count": 48,
     "metadata": {},
     "output_type": "execute_result"
    }
   ],
   "source": [
    "y_pred = gs10cv.predict(X_test)\n",
    "print(\"Confusion Matrix:\")\n",
    "confusionMatrix(y_test, y_pred, classes = [0,1])"
   ]
  },
  {
   "cell_type": "code",
   "execution_count": 47,
   "metadata": {},
   "outputs": [
    {
     "name": "stdout",
     "output_type": "stream",
     "text": [
      "              precision    recall  f1-score   support\n",
      "\n",
      "          no       0.98      0.99      0.99      3249\n",
      "         yes       0.93      0.82      0.87       331\n",
      "\n",
      "    accuracy                           0.98      3580\n",
      "   macro avg       0.96      0.91      0.93      3580\n",
      "weighted avg       0.98      0.98      0.98      3580\n",
      "\n"
     ]
    }
   ],
   "source": [
    "print(classification_report(y_test, y_pred, target_names=['no', 'yes']))"
   ]
  },
  {
   "cell_type": "code",
   "execution_count": 44,
   "metadata": {},
   "outputs": [
    {
     "name": "stdout",
     "output_type": "stream",
     "text": [
      "Test Error:\n"
     ]
    },
    {
     "data": {
      "text/plain": [
       "2.2346368715083775"
      ]
     },
     "execution_count": 44,
     "metadata": {},
     "output_type": "execute_result"
    }
   ],
   "source": [
    "print(\"Test Error:\")\n",
    "(1-accuracy_score(y_test, y_pred))*100"
   ]
  },
  {
   "cell_type": "markdown",
   "metadata": {},
   "source": [
    "#### Testing with no-correlated data"
   ]
  },
  {
   "cell_type": "code",
   "execution_count": 26,
   "metadata": {},
   "outputs": [
    {
     "name": "stdout",
     "output_type": "stream",
     "text": [
      "[0 0 0 ... 0 0 0]\n",
      "Confusion Matrix:\n"
     ]
    },
    {
     "data": {
      "text/html": [
       "<div>\n",
       "<style scoped>\n",
       "    .dataframe tbody tr th:only-of-type {\n",
       "        vertical-align: middle;\n",
       "    }\n",
       "\n",
       "    .dataframe tbody tr th {\n",
       "        vertical-align: top;\n",
       "    }\n",
       "\n",
       "    .dataframe thead th {\n",
       "        text-align: right;\n",
       "    }\n",
       "</style>\n",
       "<table border=\"1\" class=\"dataframe\">\n",
       "  <thead>\n",
       "    <tr style=\"text-align: right;\">\n",
       "      <th>Predicted</th>\n",
       "      <th>0</th>\n",
       "      <th>1</th>\n",
       "    </tr>\n",
       "    <tr>\n",
       "      <th>Real</th>\n",
       "      <th></th>\n",
       "      <th></th>\n",
       "    </tr>\n",
       "  </thead>\n",
       "  <tbody>\n",
       "    <tr>\n",
       "      <th>0</th>\n",
       "      <td>3228</td>\n",
       "      <td>15</td>\n",
       "    </tr>\n",
       "    <tr>\n",
       "      <th>1</th>\n",
       "      <td>77</td>\n",
       "      <td>260</td>\n",
       "    </tr>\n",
       "  </tbody>\n",
       "</table>\n",
       "</div>"
      ],
      "text/plain": [
       "Predicted     0    1\n",
       "Real                \n",
       "0          3228   15\n",
       "1            77  260"
      ]
     },
     "execution_count": 26,
     "metadata": {},
     "output_type": "execute_result"
    }
   ],
   "source": [
    "y_pred_NC = gs10cv_nc.predict(X_test_NC)\n",
    "print(\"Confusion Matrix:\")\n",
    "confusionMatrix(y_test_NC, y_pred_NC, classes = [0,1])"
   ]
  },
  {
   "cell_type": "code",
   "execution_count": 50,
   "metadata": {},
   "outputs": [
    {
     "name": "stdout",
     "output_type": "stream",
     "text": [
      "              precision    recall  f1-score   support\n",
      "\n",
      "          no       0.98      1.00      0.99      3243\n",
      "         yes       0.95      0.77      0.85       337\n",
      "\n",
      "    accuracy                           0.97      3580\n",
      "   macro avg       0.96      0.88      0.92      3580\n",
      "weighted avg       0.97      0.97      0.97      3580\n",
      "\n"
     ]
    }
   ],
   "source": [
    "print(classification_report(y_test_NC, y_pred_NC, target_names=['no', 'yes']))"
   ]
  },
  {
   "cell_type": "code",
   "execution_count": 27,
   "metadata": {},
   "outputs": [
    {
     "name": "stdout",
     "output_type": "stream",
     "text": [
      "Test Error:\n"
     ]
    },
    {
     "data": {
      "text/plain": [
       "2.5698324022346397"
      ]
     },
     "execution_count": 27,
     "metadata": {},
     "output_type": "execute_result"
    }
   ],
   "source": [
    "print(\"Test Error:\")\n",
    "(1-accuracy_score(y_test_NC, gs10cv_nc.predict(X_test_NC)))*100"
   ]
  },
  {
   "cell_type": "code",
   "execution_count": null,
   "metadata": {},
   "outputs": [],
   "source": []
  },
  {
   "cell_type": "code",
   "execution_count": null,
   "metadata": {},
   "outputs": [],
   "source": []
  },
  {
   "cell_type": "code",
   "execution_count": null,
   "metadata": {},
   "outputs": [],
   "source": []
  },
  {
   "cell_type": "code",
   "execution_count": null,
   "metadata": {},
   "outputs": [],
   "source": []
  },
  {
   "cell_type": "code",
   "execution_count": null,
   "metadata": {},
   "outputs": [],
   "source": []
  },
  {
   "cell_type": "code",
   "execution_count": null,
   "metadata": {},
   "outputs": [],
   "source": []
  },
  {
   "cell_type": "code",
   "execution_count": null,
   "metadata": {},
   "outputs": [],
   "source": []
  }
 ],
 "metadata": {
  "kernelspec": {
   "display_name": "Python 3",
   "language": "python",
   "name": "python3"
  },
  "language_info": {
   "codemirror_mode": {
    "name": "ipython",
    "version": 3
   },
   "file_extension": ".py",
   "mimetype": "text/x-python",
   "name": "python",
   "nbconvert_exporter": "python",
   "pygments_lexer": "ipython3",
   "version": "3.7.4"
  }
 },
 "nbformat": 4,
 "nbformat_minor": 2
}
