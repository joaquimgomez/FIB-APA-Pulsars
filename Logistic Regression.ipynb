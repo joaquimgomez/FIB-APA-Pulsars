{
 "cells": [
  {
   "cell_type": "code",
   "execution_count": 15,
   "metadata": {},
   "outputs": [
    {
     "name": "stdout",
     "output_type": "stream",
     "text": [
      "       Profile_mean  Profile_stdev  Profile_skewness  Profile_kurtosis  \\\n",
      "0          1.149317       1.334832         -0.669570         -0.400459   \n",
      "1         -0.334168       1.802265         -0.011785         -0.370535   \n",
      "2         -0.314372      -1.053322         -0.145233         -0.116593   \n",
      "3          1.000694       1.553254         -0.513409         -0.390178   \n",
      "4         -0.871402      -0.858879          0.115609         -0.104866   \n",
      "...             ...            ...               ...               ...   \n",
      "17893      0.988208       1.943284         -0.625655         -0.406697   \n",
      "17894      0.447319       0.429062         -0.328831         -0.234643   \n",
      "17895      0.321842       1.956220         -0.299334         -0.407492   \n",
      "17896      0.133628       1.074510         -0.260050         -0.291041   \n",
      "17897     -2.105762       5.735470          0.872674         -0.272508   \n",
      "\n",
      "        DM_mean  DM_stdev  DM_skewness  DM_kurtosis  Class  \n",
      "0     -0.319440 -0.370625    -0.072798    -0.287438      0  \n",
      "1     -0.371102 -0.588924     0.504427     0.211581      0  \n",
      "2     -0.322107 -0.235328    -0.125996    -0.391373      0  \n",
      "3     -0.304404 -0.275666    -0.312265    -0.481300      0  \n",
      "4     -0.388010 -0.763111     1.324026     1.386794      0  \n",
      "...         ...       ...          ...          ...    ...  \n",
      "17893 -0.384010 -0.727295     1.586054     1.700034      0  \n",
      "17894  0.128776  0.939926    -1.189159    -0.906574      0  \n",
      "17895  0.299137  1.671568    -1.288079    -0.941330      0  \n",
      "17896 -0.361967 -0.664857     0.378257     0.275850      0  \n",
      "17897  5.961291  1.971546    -2.197327    -0.971052      0  \n",
      "\n",
      "[17898 rows x 9 columns]\n"
     ]
    }
   ],
   "source": [
    "import pandas as pd\n",
    "import numpy as np\n",
    "import matplotlib.pyplot as plt\n",
    "from statsmodels.genmod.generalized_linear_model import GLM\n",
    "from sklearn.feature_selection import RFECV\n",
    "from sklearn.linear_model import LogisticRegression\n",
    "from sklearn.model_selection import train_test_split\n",
    "from statsmodels.genmod.families.family import Binomial\n",
    "from statsmodels.tools.tools import add_constant\n",
    "from sklearn.metrics import confusion_matrix, classification_report, accuracy_score\n",
    "\n",
    "def confusion(true, pred, classes):\n",
    "    \"\"\"\n",
    "    Function for pretty printing confusion matrices\n",
    "    \"\"\"\n",
    "    cm = pd.DataFrame(confusion_matrix(true, pred), index=classes, columns=classes)\n",
    "    cm.index.name = 'Actual'\n",
    "    cm.columns.name = 'Predicted'\n",
    "    return cm\n",
    "\n",
    "data = pd.read_csv(\"./data/stdHTRU_2.csv\")\n",
    "Class = data['class']\n",
    "data = data.drop(columns=['class'])\n",
    "data['Class'] = Class\n",
    "train, test = train_test_split(data, test_size = 0.2)\n",
    "\n",
    "print(data)"
   ]
  },
  {
   "cell_type": "code",
   "execution_count": 11,
   "metadata": {},
   "outputs": [
    {
     "data": {
      "text/html": [
       "<table class=\"simpletable\">\n",
       "<caption>Generalized Linear Model Regression Results</caption>\n",
       "<tr>\n",
       "  <th>Dep. Variable:</th>         <td>Class</td>      <th>  No. Observations:  </th>  <td> 14318</td> \n",
       "</tr>\n",
       "<tr>\n",
       "  <th>Model:</th>                  <td>GLM</td>       <th>  Df Residuals:      </th>  <td> 14309</td> \n",
       "</tr>\n",
       "<tr>\n",
       "  <th>Model Family:</th>        <td>Binomial</td>     <th>  Df Model:          </th>  <td>     8</td> \n",
       "</tr>\n",
       "<tr>\n",
       "  <th>Link Function:</th>         <td>logit</td>      <th>  Scale:             </th> <td>  1.0000</td>\n",
       "</tr>\n",
       "<tr>\n",
       "  <th>Method:</th>                <td>IRLS</td>       <th>  Log-Likelihood:    </th> <td> -1082.0</td>\n",
       "</tr>\n",
       "<tr>\n",
       "  <th>Date:</th>            <td>Tue, 31 Dec 2019</td> <th>  Deviance:          </th> <td>  2164.0</td>\n",
       "</tr>\n",
       "<tr>\n",
       "  <th>Time:</th>                <td>16:54:03</td>     <th>  Pearson chi2:      </th> <td>3.63e+04</td>\n",
       "</tr>\n",
       "<tr>\n",
       "  <th>No. Iterations:</th>          <td>9</td>        <th>                     </th>     <td> </td>   \n",
       "</tr>\n",
       "<tr>\n",
       "  <th>Covariance Type:</th>     <td>nonrobust</td>    <th>                     </th>     <td> </td>   \n",
       "</tr>\n",
       "</table>\n",
       "<table class=\"simpletable\">\n",
       "<tr>\n",
       "          <td></td>            <th>coef</th>     <th>std err</th>      <th>z</th>      <th>P>|z|</th>  <th>[0.025</th>    <th>0.975]</th>  \n",
       "</tr>\n",
       "<tr>\n",
       "  <th>const</th>            <td>   -4.2593</td> <td>    0.098</td> <td>  -43.518</td> <td> 0.000</td> <td>   -4.451</td> <td>   -4.067</td>\n",
       "</tr>\n",
       "<tr>\n",
       "  <th>Profile_mean</th>     <td>    0.7644</td> <td>    0.165</td> <td>    4.635</td> <td> 0.000</td> <td>    0.441</td> <td>    1.088</td>\n",
       "</tr>\n",
       "<tr>\n",
       "  <th>Profile_stdev</th>    <td>   -0.2350</td> <td>    0.077</td> <td>   -3.064</td> <td> 0.002</td> <td>   -0.385</td> <td>   -0.085</td>\n",
       "</tr>\n",
       "<tr>\n",
       "  <th>Profile_skewness</th> <td>    6.8090</td> <td>    0.345</td> <td>   19.726</td> <td> 0.000</td> <td>    6.132</td> <td>    7.486</td>\n",
       "</tr>\n",
       "<tr>\n",
       "  <th>Profile_kurtosis</th> <td>   -3.6832</td> <td>    0.268</td> <td>  -13.758</td> <td> 0.000</td> <td>   -4.208</td> <td>   -3.159</td>\n",
       "</tr>\n",
       "<tr>\n",
       "  <th>DM_mean</th>          <td>   -0.7279</td> <td>    0.110</td> <td>   -6.592</td> <td> 0.000</td> <td>   -0.944</td> <td>   -0.511</td>\n",
       "</tr>\n",
       "<tr>\n",
       "  <th>DM_stdev</th>         <td>    0.9984</td> <td>    0.159</td> <td>    6.270</td> <td> 0.000</td> <td>    0.686</td> <td>    1.310</td>\n",
       "</tr>\n",
       "<tr>\n",
       "  <th>DM_skewness</th>      <td>    0.2811</td> <td>    0.473</td> <td>    0.595</td> <td> 0.552</td> <td>   -0.645</td> <td>    1.208</td>\n",
       "</tr>\n",
       "<tr>\n",
       "  <th>DM_kurtosis</th>      <td>   -0.5691</td> <td>    0.427</td> <td>   -1.332</td> <td> 0.183</td> <td>   -1.406</td> <td>    0.268</td>\n",
       "</tr>\n",
       "</table>"
      ],
      "text/plain": [
       "<class 'statsmodels.iolib.summary.Summary'>\n",
       "\"\"\"\n",
       "                 Generalized Linear Model Regression Results                  \n",
       "==============================================================================\n",
       "Dep. Variable:                  Class   No. Observations:                14318\n",
       "Model:                            GLM   Df Residuals:                    14309\n",
       "Model Family:                Binomial   Df Model:                            8\n",
       "Link Function:                  logit   Scale:                          1.0000\n",
       "Method:                          IRLS   Log-Likelihood:                -1082.0\n",
       "Date:                Tue, 31 Dec 2019   Deviance:                       2164.0\n",
       "Time:                        16:54:03   Pearson chi2:                 3.63e+04\n",
       "No. Iterations:                     9                                         \n",
       "Covariance Type:            nonrobust                                         \n",
       "====================================================================================\n",
       "                       coef    std err          z      P>|z|      [0.025      0.975]\n",
       "------------------------------------------------------------------------------------\n",
       "const               -4.2593      0.098    -43.518      0.000      -4.451      -4.067\n",
       "Profile_mean         0.7644      0.165      4.635      0.000       0.441       1.088\n",
       "Profile_stdev       -0.2350      0.077     -3.064      0.002      -0.385      -0.085\n",
       "Profile_skewness     6.8090      0.345     19.726      0.000       6.132       7.486\n",
       "Profile_kurtosis    -3.6832      0.268    -13.758      0.000      -4.208      -3.159\n",
       "DM_mean             -0.7279      0.110     -6.592      0.000      -0.944      -0.511\n",
       "DM_stdev             0.9984      0.159      6.270      0.000       0.686       1.310\n",
       "DM_skewness          0.2811      0.473      0.595      0.552      -0.645       1.208\n",
       "DM_kurtosis         -0.5691      0.427     -1.332      0.183      -1.406       0.268\n",
       "====================================================================================\n",
       "\"\"\""
      ]
     },
     "execution_count": 11,
     "metadata": {},
     "output_type": "execute_result"
    }
   ],
   "source": [
    "# Fitting a GLM in the learning data in order to \n",
    "linear = GLM(train.Class, add_constant(train.loc[:,:'DM_kurtosis']), family= Binomial())\n",
    "lresult = linear.fit()\n",
    "lresult.summary()"
   ]
  },
  {
   "cell_type": "markdown",
   "metadata": {},
   "source": [
    "We see that there are variables that have small weights and maybe are not relevant"
   ]
  },
  {
   "cell_type": "code",
   "execution_count": 13,
   "metadata": {},
   "outputs": [
    {
     "name": "stdout",
     "output_type": "stream",
     "text": [
      "Features Selected: 8\n",
      "\n",
      " Ranking of features\n"
     ]
    },
    {
     "data": {
      "text/html": [
       "<div>\n",
       "<style scoped>\n",
       "    .dataframe tbody tr th:only-of-type {\n",
       "        vertical-align: middle;\n",
       "    }\n",
       "\n",
       "    .dataframe tbody tr th {\n",
       "        vertical-align: top;\n",
       "    }\n",
       "\n",
       "    .dataframe thead th {\n",
       "        text-align: right;\n",
       "    }\n",
       "</style>\n",
       "<table border=\"1\" class=\"dataframe\">\n",
       "  <thead>\n",
       "    <tr style=\"text-align: right;\">\n",
       "      <th></th>\n",
       "      <th>features</th>\n",
       "      <th>ranking</th>\n",
       "      <th>selected</th>\n",
       "    </tr>\n",
       "  </thead>\n",
       "  <tbody>\n",
       "    <tr>\n",
       "      <td>0</td>\n",
       "      <td>Profile_mean</td>\n",
       "      <td>1</td>\n",
       "      <td>True</td>\n",
       "    </tr>\n",
       "    <tr>\n",
       "      <td>1</td>\n",
       "      <td>Profile_stdev</td>\n",
       "      <td>1</td>\n",
       "      <td>True</td>\n",
       "    </tr>\n",
       "    <tr>\n",
       "      <td>2</td>\n",
       "      <td>Profile_skewness</td>\n",
       "      <td>1</td>\n",
       "      <td>True</td>\n",
       "    </tr>\n",
       "    <tr>\n",
       "      <td>3</td>\n",
       "      <td>Profile_kurtosis</td>\n",
       "      <td>1</td>\n",
       "      <td>True</td>\n",
       "    </tr>\n",
       "    <tr>\n",
       "      <td>4</td>\n",
       "      <td>DM_mean</td>\n",
       "      <td>1</td>\n",
       "      <td>True</td>\n",
       "    </tr>\n",
       "    <tr>\n",
       "      <td>5</td>\n",
       "      <td>DM_stdev</td>\n",
       "      <td>1</td>\n",
       "      <td>True</td>\n",
       "    </tr>\n",
       "    <tr>\n",
       "      <td>6</td>\n",
       "      <td>DM_skewness</td>\n",
       "      <td>1</td>\n",
       "      <td>True</td>\n",
       "    </tr>\n",
       "    <tr>\n",
       "      <td>7</td>\n",
       "      <td>DM_kurtosis</td>\n",
       "      <td>1</td>\n",
       "      <td>True</td>\n",
       "    </tr>\n",
       "  </tbody>\n",
       "</table>\n",
       "</div>"
      ],
      "text/plain": [
       "           features  ranking  selected\n",
       "0      Profile_mean        1      True\n",
       "1     Profile_stdev        1      True\n",
       "2  Profile_skewness        1      True\n",
       "3  Profile_kurtosis        1      True\n",
       "4           DM_mean        1      True\n",
       "5          DM_stdev        1      True\n",
       "6       DM_skewness        1      True\n",
       "7       DM_kurtosis        1      True"
      ]
     },
     "execution_count": 13,
     "metadata": {},
     "output_type": "execute_result"
    }
   ],
   "source": [
    "# recursive feature elimination (RFE)\n",
    "logreg =LogisticRegression(solver='liblinear',penalty='l1',C=1)\n",
    "rfe = RFECV(estimator=logreg,cv=10,n_jobs=-1)\n",
    "rfe.fit(train.loc[:,:'DM_kurtosis'],train.Class);\n",
    "\n",
    "print('Features Selected:',rfe.n_features_)\n",
    "print('\\n Ranking of features')\n",
    "sel = pd.DataFrame({'features': train.columns[:-1], 'ranking': rfe.ranking_, 'selected':rfe.support_})\n",
    "sel.sort_values(by='ranking')\n",
    "\n"
   ]
  },
  {
   "cell_type": "code",
   "execution_count": 14,
   "metadata": {},
   "outputs": [
    {
     "data": {
      "text/plain": [
       "['Profile_mean',\n",
       " 'Profile_stdev',\n",
       " 'Profile_skewness',\n",
       " 'Profile_kurtosis',\n",
       " 'DM_mean',\n",
       " 'DM_stdev',\n",
       " 'DM_skewness',\n",
       " 'DM_kurtosis']"
      ]
     },
     "execution_count": 14,
     "metadata": {},
     "output_type": "execute_result"
    }
   ],
   "source": [
    "resultM1 = rfe.estimator_\n",
    "sel_features = list(sel.features[sel.selected])\n",
    "sel_features\n"
   ]
  },
  {
   "cell_type": "markdown",
   "metadata": {},
   "source": [
    "All the features are considered relevant, thus all of them are selected"
   ]
  },
  {
   "cell_type": "code",
   "execution_count": 28,
   "metadata": {},
   "outputs": [
    {
     "name": "stdout",
     "output_type": "stream",
     "text": [
      "Predicted  no_pulsar  pulsar\n",
      "Actual                      \n",
      "no_pulsar      12922      71\n",
      "pulsar           231    1094\n",
      "\n",
      "Training error: 2.1092331331191483% \n",
      "\n",
      "Predicted  no_pulsar  pulsar\n",
      "Actual                      \n",
      "no_pulsar       3250      16\n",
      "pulsar            57     257\n",
      "\n",
      "Test error: 2.0391061452514014% \n",
      "\n"
     ]
    }
   ],
   "source": [
    "def pulsar_acc(P=0.5):\n",
    "    # We use predict_proba instead of prediction to obtain\n",
    "    # the probabilities of the classes and\n",
    "    # we select only the probability for class 1 as\n",
    "    # the other is just the complementary\n",
    "\n",
    "    # Accuracy in training\n",
    "    pred = resultM1.predict_proba(train.loc[:,sel_features])[:,1]\n",
    "    lab_tr = [1 if i >= P else 0 for i in pred]\n",
    "    df_tr = confusion(train.Class,lab_tr, classes=['no_pulsar','pulsar'])\n",
    "    \n",
    "    # Accuracy in test\n",
    "    pred = resultM1.predict_proba(test.loc[:,sel_features])[:,1]\n",
    "    lab_ts = [1 if i>=P else 0 for i in pred]\n",
    "    df_ts = confusion(test.Class,lab_ts, classes=['no_pulsar','pulsar'])\n",
    "\n",
    "    return df_tr, (1-accuracy_score(train.Class,lab_tr))*100, df_ts, (1-accuracy_score(test.Class,lab_ts))*100\n",
    "\n",
    "c_tr, e_tr, c_ts, e_ts = pulsar_acc()\n",
    "print(c_tr)\n",
    "print(f'\\nTraining error: {e_tr}% \\n')\n",
    "print(c_ts)\n",
    "print(f'\\nTest error: {e_ts}% \\n')\n"
   ]
  },
  {
   "cell_type": "code",
   "execution_count": 33,
   "metadata": {},
   "outputs": [
    {
     "name": "stdout",
     "output_type": "stream",
     "text": [
      "Predicted  no_pulsar  pulsar\n",
      "Actual                      \n",
      "no_pulsar      12911      82\n",
      "pulsar           207    1118\n",
      "\n",
      "Training error: 2.018438329375616% \n",
      "\n",
      "Predicted  no_pulsar  pulsar\n",
      "Actual                      \n",
      "no_pulsar       3247      19\n",
      "pulsar            51     263\n",
      "\n",
      "Test error: 1.9553072625698276% \n",
      "\n"
     ]
    }
   ],
   "source": [
    "# We can experiment changing the value of P = 0.5\n",
    "c_tr, e_tr, c_ts, e_ts = pulsar_acc(0.4)\n",
    "print(c_tr)\n",
    "print(f'\\nTraining error: {e_tr}% \\n')\n",
    "print(c_ts)\n",
    "print(f'\\nTest error: {e_ts}% \\n')"
   ]
  },
  {
   "cell_type": "code",
   "execution_count": 43,
   "metadata": {},
   "outputs": [
    {
     "data": {
      "image/png": "[encoded data removed]",
      "text/plain": [
       "<Figure size 432x288 with 1 Axes>"
      ]
     },
     "metadata": {
      "needs_background": "light"
     },
     "output_type": "display_data"
    }
   ],
   "source": [
    "def calculate_accuracy(P, dataset):\n",
    "    pred = resultM1.predict_proba(dataset.loc[:,sel_features])[:,1]\n",
    "    lab = [1 if i >= P else 0 for i in pred]\n",
    "\n",
    "    return accuracy_score(dataset.Class,lab)*100\n",
    "\n",
    "threshold = list(np.array(range(1,10))/10) # from 0.1 to 0.9\n",
    "\n",
    "accuracy_tr = list(map(lambda x: calculate_accuracy(x, train), threshold))\n",
    "accuracy_ts = list(map(lambda x: calculate_accuracy(x, test), threshold))\n",
    "\n",
    "plt.plot(threshold, accuracy_tr, label='Training set')\n",
    "plt.plot(threshold, accuracy_ts, label='Test set')\n",
    "\n",
    "plt.ylabel('accuracy')\n",
    "plt.xlabel('threshold')\n",
    "plt.legend(loc='upper right')\n",
    "plt.show()"
   ]
  },
  {
   "cell_type": "markdown",
   "metadata": {},
   "source": [
    "We can see that with our data the threshold with the best accuracy result is 0.3"
   ]
  },
  {
   "cell_type": "code",
   "execution_count": null,
   "metadata": {},
   "outputs": [],
   "source": []
  }
 ],
 "metadata": {
  "kernelspec": {
   "display_name": "Python 3",
   "language": "python",
   "name": "python3"
  },
  "language_info": {
   "codemirror_mode": {
    "name": "ipython",
    "version": 3
   },
   "file_extension": ".py",
   "mimetype": "text/x-python",
   "name": "python",
   "nbconvert_exporter": "python",
   "pygments_lexer": "ipython3",
   "version": "3.7.4"
  }
 },
 "nbformat": 4,
 "nbformat_minor": 2
}
